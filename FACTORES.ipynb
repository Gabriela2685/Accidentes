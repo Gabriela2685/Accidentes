{
  "nbformat": 4,
  "nbformat_minor": 0,
  "metadata": {
    "colab": {
      "provenance": [],
      "authorship_tag": "ABX9TyOw08FphaYLvF5A9mMaJe74",
      "include_colab_link": true
    },
    "kernelspec": {
      "name": "python3",
      "display_name": "Python 3"
    },
    "language_info": {
      "name": "python"
    }
  },
  "cells": [
    {
      "cell_type": "markdown",
      "metadata": {
        "id": "view-in-github",
        "colab_type": "text"
      },
      "source": [
        "<a href=\"https://colab.research.google.com/github/Gabriela2685/Accidentes/blob/main/FACTORES.ipynb\" target=\"_parent\"><img src=\"https://colab.research.google.com/assets/colab-badge.svg\" alt=\"Open In Colab\"/></a>"
      ]
    },
    {
      "cell_type": "code",
      "execution_count": null,
      "metadata": {
        "id": "ACu8zz48dCIb",
        "outputId": "524618e9-1a33-43b8-8b75-e692a28121bf",
        "colab": {
          "base_uri": "https://localhost:8080/"
        }
      },
      "outputs": [
        {
          "output_type": "execute_result",
          "data": {
            "text/plain": [
              "({'L': 18.0,\n",
              "  'G': 1.5,\n",
              "  'T': -8.0,\n",
              "  'L*G': -1.0,\n",
              "  'L*T': 0.5,\n",
              "  'G*T': 6.0,\n",
              "  'L*G*T': -0.5},\n",
              " 1.5811388300841898)"
            ]
          },
          "metadata": {},
          "execution_count": 1
        }
      ],
      "source": [
        "import numpy as np\n",
        "import pandas as pd\n",
        "\n",
        "# Datos del problema\n",
        "datos = {\n",
        "    'Experimento': [1, 2, 3, 4, 5, 6, 7, 8],\n",
        "    'L': [-1, 1, -1, 1, -1, 1, -1, 1],\n",
        "    'G': [-1, -1, 1, 1, -1, -1, 1, 1],\n",
        "    'T': [-1, -1, -1, -1, 1, 1, 1, 1],\n",
        "    'Media': [79, 97, 75, 92, 64, 84, 73, 90],\n",
        "    'Varianza': [8, 2, 2, 8, 8, 2, 2, 8]\n",
        "}\n",
        "\n",
        "# Convertir datos a un DataFrame para facilitar cálculos\n",
        "df = pd.DataFrame(datos)\n",
        "\n",
        "# Calcular los efectos principales y de interacción\n",
        "factores = ['L', 'G', 'T']\n",
        "interacciones = ['L*G', 'L*T', 'G*T', 'L*G*T']\n",
        "\n",
        "# Añadir interacciones al DataFrame\n",
        "df['L*G'] = df['L'] * df['G']\n",
        "df['L*T'] = df['L'] * df['T']\n",
        "df['G*T'] = df['G'] * df['T']\n",
        "df['L*G*T'] = df['L'] * df['G'] * df['T']\n",
        "\n",
        "# Calcular efectos\n",
        "efectos = {}\n",
        "for factor in factores + interacciones:\n",
        "    efectos[factor] = (df[factor] * df['Media']).sum() / 4  # Dividir por 2^(k-1) = 4\n",
        "\n",
        "# Calcular desviación estándar de los efectos\n",
        "n_replicas = 2\n",
        "desviacion_estandar = np.sqrt(df['Varianza'].mean() / n_replicas)\n",
        "\n",
        "efectos, desviacion_estandar\n"
      ]
    }
  ]
}