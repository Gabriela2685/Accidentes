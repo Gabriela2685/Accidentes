{
  "nbformat": 4,
  "nbformat_minor": 0,
  "metadata": {
    "colab": {
      "provenance": [],
      "authorship_tag": "ABX9TyPlqkg6/wN3CO8btznrEjM1",
      "include_colab_link": true
    },
    "kernelspec": {
      "name": "python3",
      "display_name": "Python 3"
    },
    "language_info": {
      "name": "python"
    }
  },
  "cells": [
    {
      "cell_type": "markdown",
      "metadata": {
        "id": "view-in-github",
        "colab_type": "text"
      },
      "source": [
        "<a href=\"https://colab.research.google.com/github/Gabriela2685/Accidentes/blob/main/avance.ipynb\" target=\"_parent\"><img src=\"https://colab.research.google.com/assets/colab-badge.svg\" alt=\"Open In Colab\"/></a>"
      ]
    },
    {
      "cell_type": "code",
      "execution_count": null,
      "metadata": {
        "id": "NxfzaZgTz8gA"
      },
      "outputs": [],
      "source": [
        "import pandas as pd\n",
        "import folium\n",
        "import numpy as np\n",
        "import statsmodels.api as sm\n",
        "import statsmodels.formula.api as smf\n"
      ]
    },
    {
      "cell_type": "code",
      "source": [
        "camarones = pd.read_csv(\"https://docs.google.com/spreadsheets/d/e/2PACX-1vSeokS35Zs-a_kaCGdkip-OA3tpN0QGF2SURwk7MArAdrKptQQaCnFTRr7to9wWpQ/pub?output=csv\")"
      ],
      "metadata": {
        "id": "lNa6u3r116TB"
      },
      "execution_count": null,
      "outputs": []
    },
    {
      "cell_type": "code",
      "source": [
        "# Crear el mapa centrado en las coordenadas promedio de los datos\n",
        "m = folium.Map(location=[camarones[\"latitud\"].mean(), camarones[\"longitud\"].mean()], zoom_start=13)\n",
        "\n",
        "# Agregar marcadores con tooltip para cada fila del DataFrame\n",
        "for _, row in camarones.iterrows():\n",
        "    # Crear texto para mostrar en el tooltip\n",
        "    tooltip_text = f\"Fecha: {row['fecha_evento']} - {row['latitud']} - {row['longitud']}\"\n",
        "\n",
        "    folium.Marker(\n",
        "        location=[row[\"latitud\"], row[\"longitud\"]],\n",
        "        tooltip=tooltip_text,  # Información que aparece al pasar el mouse\n",
        "        icon=folium.Icon(color=\"blue\", icon=\"info-sign\")\n",
        "    ).add_to(m)\n",
        "\n",
        "# Guardar el mapa en un archivo HTML\n",
        "m.save(\"mapa_accidentes_tooltip.html\")"
      ],
      "metadata": {
        "id": "5uPwDRgx38yR"
      },
      "execution_count": null,
      "outputs": []
    },
    {
      "cell_type": "code",
      "source": [
        "# Mostrar el mapa en Jupyter Notebook (si estás usándolo)\n",
        "m"
      ],
      "metadata": {
        "id": "CxzjwuPT5l7T"
      },
      "execution_count": null,
      "outputs": []
    },
    {
      "cell_type": "markdown",
      "source": [
        "Utiliza una distribución binomial negativa porque los datos de choques suelen ser dispersos (la varianza supera la media), lo cual es común en accidentes de tránsito."
      ],
      "metadata": {
        "id": "iNj4zDl8T_LE"
      }
    },
    {
      "cell_type": "markdown",
      "source": [
        "La función de desempeño es estimada\n",
        "usando un modelo generalizado lineal con una\n",
        "distribución de probabilidad binomial negativa.\n",
        "\n",
        "$ln(choques)=\\beta_{0}+\\beta_{1} ln(TPDA)+\\beta_{2} num carriles+\\beta_{3} ln(longitud)+\\beta_{4}num Y+\\beta_{5}num Cruz+\\beta_{6}num Glorieta+\\beta_{7}num Ramas+\\beta_{8}num Recta+\\beta_{9}num T$"
      ],
      "metadata": {
        "id": "nvQnkHkcULU8"
      }
    },
    {
      "cell_type": "code",
      "source": [
        "#Con semaforos\n",
        "\n",
        "# Crea un DataFrame con tus datos (ajusta los valores a los tuyos)\n",
        "data = pd.DataFrame({\n",
        "    \"Choques\": [101],  # Choques observados en tu análisis\n",
        "    \"TPDA\": [5600],  # Tráfico promedio diario anual\n",
        "    \"num_carriles\": [8],  # Número total de carriles\n",
        "    \"Y\": [1],  # Número total de intersecciones\n",
        "    \"cruz\": [6],\n",
        "    \"glorieta\": [0],\n",
        "    \"ramas_mult\": [4],\n",
        "    \"recta\": [0],\n",
        "    \"T\": [3],\n",
        "    \"Longitud\": [2.95]  # Longitud total de la calzada (km)\n",
        "})\n",
        "\n",
        "# Ajustar el modelo binomial negativo\n",
        "modelo = smf.glm(\n",
        "    \"Choques ~ np.log(TPDA) + num_carriles + Y + cruz + glorieta + ramas_mult + recta + T + np.log(Longitud)\",\n",
        "    data=data,\n",
        "    family=sm.families.NegativeBinomial()\n",
        ").fit()\n",
        "\n",
        "# Resumen del modelo\n",
        "print(modelo.summary())\n"
      ],
      "metadata": {
        "colab": {
          "base_uri": "https://localhost:8080/"
        },
        "outputId": "b18a834a-dd64-49b2-87c5-1370d1bc5a06",
        "id": "pJyAuxQfZL0n"
      },
      "execution_count": null,
      "outputs": [
        {
          "output_type": "stream",
          "name": "stdout",
          "text": [
            "                 Generalized Linear Model Regression Results                  \n",
            "==============================================================================\n",
            "Dep. Variable:                Choques   No. Observations:                    1\n",
            "Model:                            GLM   Df Residuals:                        0\n",
            "Model Family:        NegativeBinomial   Df Model:                            0\n",
            "Link Function:                    Log   Scale:                          1.0000\n",
            "Method:                          IRLS   Log-Likelihood:                -5.6201\n",
            "Date:                Tue, 19 Nov 2024   Deviance:                  -3.1086e-15\n",
            "Time:                        21:05:04   Pearson chi2:                 2.37e-30\n",
            "No. Iterations:                     1   Pseudo R-squ. (CS):         -2.274e-13\n",
            "Covariance Type:            nonrobust                                         \n",
            "====================================================================================\n",
            "                       coef    std err          z      P>|z|      [0.025      0.975]\n",
            "------------------------------------------------------------------------------------\n",
            "Intercept            0.0228      0.005      4.592      0.000       0.013       0.032\n",
            "np.log(TPDA)         0.1965      0.043      4.592      0.000       0.113       0.280\n",
            "num_carriles         0.1822      0.040      4.592      0.000       0.104       0.260\n",
            "Y                    0.0228      0.005      4.592      0.000       0.013       0.032\n",
            "cruz                 0.1366      0.030      4.592      0.000       0.078       0.195\n",
            "glorieta                  0          0        nan        nan           0           0\n",
            "ramas_mult           0.0911      0.020      4.592      0.000       0.052       0.130\n",
            "recta                     0          0        nan        nan           0           0\n",
            "T                    0.0683      0.015      4.592      0.000       0.039       0.097\n",
            "np.log(Longitud)     0.0246      0.005      4.592      0.000       0.014       0.035\n",
            "====================================================================================\n"
          ]
        },
        {
          "output_type": "stream",
          "name": "stderr",
          "text": [
            "/usr/local/lib/python3.10/dist-packages/statsmodels/genmod/families/family.py:1367: ValueWarning: Negative binomial dispersion parameter alpha not set. Using default value alpha=1.0.\n",
            "  warnings.warn(\"Negative binomial dispersion parameter alpha not \"\n"
          ]
        }
      ]
    },
    {
      "cell_type": "code",
      "source": [
        "#Sin semaforos\n",
        "\n",
        "# Crea un DataFrame con tus datos (ajusta los valores a los tuyos)\n",
        "data = pd.DataFrame({\n",
        "    \"Choques\": [101],  # Choques observados en tu análisis\n",
        "    \"TPDA\": [5600],  # Tráfico promedio diario anual\n",
        "    \"num_carriles\": [8],  # Número total de carriles\n",
        "    \"Y\": [5],  # Número total de intersecciones\n",
        "    \"cruz\": [3],\n",
        "    \"glorieta\": [1],\n",
        "    \"ramas_mult\": [0],\n",
        "    \"recta\": [2],\n",
        "    \"T\": [14],\n",
        "    \"Longitud\": [2.95]  # Longitud total de la calzada (km)\n",
        "})\n",
        "\n",
        "# Ajustar el modelo binomial negativo\n",
        "modelo = smf.glm(\n",
        "    \"Choques ~ np.log(TPDA) + num_carriles + Y + cruz + glorieta + ramas_mult + recta + T + np.log(Longitud)\",\n",
        "    data=data,\n",
        "    family=sm.families.NegativeBinomial()\n",
        ").fit()\n",
        "\n",
        "# Resumen del modelo\n",
        "print(modelo.summary())"
      ],
      "metadata": {
        "colab": {
          "base_uri": "https://localhost:8080/"
        },
        "outputId": "3f3a9a2d-6a51-4a2b-cda3-dcd07f82e78d",
        "id": "uPRUt3vYjuRP"
      },
      "execution_count": null,
      "outputs": [
        {
          "output_type": "stream",
          "name": "stdout",
          "text": [
            "                 Generalized Linear Model Regression Results                  \n",
            "==============================================================================\n",
            "Dep. Variable:                Choques   No. Observations:                    1\n",
            "Model:                            GLM   Df Residuals:                        0\n",
            "Model Family:        NegativeBinomial   Df Model:                            0\n",
            "Link Function:                    Log   Scale:                          1.0000\n",
            "Method:                          IRLS   Log-Likelihood:                -5.6201\n",
            "Date:                Tue, 19 Nov 2024   Deviance:                   3.9968e-15\n",
            "Time:                        21:07:22   Pearson chi2:                 3.84e-30\n",
            "No. Iterations:                     1   Pseudo R-squ. (CS):         -2.274e-13\n",
            "Covariance Type:            nonrobust                                         \n",
            "====================================================================================\n",
            "                       coef    std err          z      P>|z|      [0.025      0.975]\n",
            "------------------------------------------------------------------------------------\n",
            "Intercept            0.0123      0.003      4.592      0.000       0.007       0.018\n",
            "np.log(TPDA)         0.1060      0.023      4.592      0.000       0.061       0.151\n",
            "num_carriles         0.0983      0.021      4.592      0.000       0.056       0.140\n",
            "Y                    0.0614      0.013      4.592      0.000       0.035       0.088\n",
            "cruz                 0.0369      0.008      4.592      0.000       0.021       0.053\n",
            "glorieta             0.0123      0.003      4.592      0.000       0.007       0.018\n",
            "ramas_mult                0          0        nan        nan           0           0\n",
            "recta                0.0246      0.005      4.592      0.000       0.014       0.035\n",
            "T                    0.1720      0.037      4.592      0.000       0.099       0.245\n",
            "np.log(Longitud)     0.0133      0.003      4.592      0.000       0.008       0.019\n",
            "====================================================================================\n"
          ]
        },
        {
          "output_type": "stream",
          "name": "stderr",
          "text": [
            "/usr/local/lib/python3.10/dist-packages/statsmodels/genmod/families/family.py:1367: ValueWarning: Negative binomial dispersion parameter alpha not set. Using default value alpha=1.0.\n",
            "  warnings.warn(\"Negative binomial dispersion parameter alpha not \"\n"
          ]
        }
      ]
    },
    {
      "cell_type": "code",
      "source": [
        "print(data)"
      ],
      "metadata": {
        "colab": {
          "base_uri": "https://localhost:8080/"
        },
        "id": "rcJsdF9VQny3",
        "outputId": "c34afddf-0557-4c8f-e3b0-dfea838016a2"
      },
      "execution_count": null,
      "outputs": [
        {
          "output_type": "stream",
          "name": "stdout",
          "text": [
            "   Choques  TPDA  num_carriles  Y  cruz  glorieta  ramas_mult  recta   T  \\\n",
            "0      101  5600             8  5     3         1           0      2  14   \n",
            "\n",
            "   Longitud  \n",
            "0      2.95  \n"
          ]
        }
      ]
    },
    {
      "cell_type": "markdown",
      "source": [
        "Numero esperado de choques\n",
        "\n",
        "$N_{pred} = e^{\\beta_0}*TPDA^{\\beta_1}*e^{\\beta_2 numCarriles}*Longitud^{\\beta_3}*e^{\\beta_4 num Y}*e^{\\beta_5 num Cruz}*e^{\\beta_6 num Glorieta}*e^{\\beta_7 num Ramas}*e^{\\beta_8 num Recta}*e^{\\beta_9 num T}$"
      ],
      "metadata": {
        "id": "jtf3O7zAKAfW"
      }
    },
    {
      "cell_type": "code",
      "source": [
        "#Con semaforos\n",
        "\n",
        "datos = pd.DataFrame({\n",
        "    'TPDA': [5600],  # Ejemplo: tráfico promedio diario anual\n",
        "    'num_carriles': [8],  # Número de carriles\n",
        "    'longitud': [2.95],  # Longitud del segmento vial en km\n",
        "    'num_Y': [1],\n",
        "    'num_Cruz': [6],\n",
        "    'num_Glorieta': [0],\n",
        "    'num_Ramas': [4],\n",
        "    'num_Recta': [0],\n",
        "    'num_T': [3],\n",
        "})\n",
        "\n",
        "# Coeficientes para intersecciones semaforizadas\n",
        "coef_semaforizadas = {\n",
        "    'Intercept': 0.0228,\n",
        "    'np.log(TPDA)': 0.1965,\n",
        "    'num_carriles': 0.1822,\n",
        "    'np.log(longitud)': 0.0246,\n",
        "    'num_Y': 0.0228,\n",
        "    'num_Cruz': 0.1366,\n",
        "    'num_Glorieta': 0,  # No aplicable aquí\n",
        "    'num_Ramas': 0.0911,\n",
        "    'num_Recta': 0,  # No aplicable aquí\n",
        "    'num_T': 0.0683,\n",
        "}\n",
        "\n",
        "# Seleccionar los coeficientes correspondientes según el tipo de segmento\n",
        "def calcular_predicciones(data, coeficientes):\n",
        "    ln_choques = (\n",
        "        coeficientes['Intercept'] +\n",
        "        coeficientes['np.log(TPDA)'] * np.log(data['TPDA']) +\n",
        "        coeficientes['num_carriles'] * data['num_carriles'] +\n",
        "        coeficientes['np.log(longitud)'] * np.log(data['longitud']) +\n",
        "        coeficientes['num_Y'] * data['num_Y'] +\n",
        "        coeficientes['num_Cruz'] * data['num_Cruz'] +\n",
        "        coeficientes['num_Glorieta'] * data['num_Glorieta'] +\n",
        "        coeficientes['num_Ramas'] * data['num_Ramas'] +\n",
        "        coeficientes['num_Recta'] * data['num_Recta'] +\n",
        "        coeficientes['num_T'] * data['num_T']\n",
        "    )\n",
        "    return np.exp(ln_choques)\n",
        "\n",
        "# Aplicar para segmentos semaforizados\n",
        "datos['N_pred_semaforizadas'] = calcular_predicciones(datos, coef_semaforizadas)\n",
        "\n",
        "# Imprimir los resultados\n",
        "print(datos[['TPDA', 'num_carriles', 'longitud', 'N_pred_semaforizadas']])"
      ],
      "metadata": {
        "colab": {
          "base_uri": "https://localhost:8080/"
        },
        "id": "mSPNHSxGPAim",
        "outputId": "cef2e751-e756-4845-a371-8d3e7656f004"
      },
      "execution_count": null,
      "outputs": [
        {
          "output_type": "stream",
          "name": "stdout",
          "text": [
            "   TPDA  num_carriles  longitud  N_pred_semaforizadas\n",
            "0  5600             8      2.95            100.948447\n"
          ]
        }
      ]
    },
    {
      "cell_type": "code",
      "source": [
        "#Sin semaforos\n",
        "\n",
        "datos = pd.DataFrame({\n",
        "    'TPDA': [5600],  # Ejemplo: tráfico promedio diario anual\n",
        "    'num_carriles': [8],  # Número de carriles\n",
        "    'longitud': [2.95],  # Longitud del segmento vial en km\n",
        "    'num_Y': [5],\n",
        "    'num_Cruz': [3],\n",
        "    'num_Glorieta': [1],\n",
        "    'num_Ramas': [0],\n",
        "    'num_Recta': [2],\n",
        "    'num_T': [14],\n",
        "})\n",
        "\n",
        "# Coeficientes para intersecciones no semaforizadas\n",
        "coef_no_semaforizadas = {\n",
        "    'Intercept': 0.0123,\n",
        "    'np.log(TPDA)': 0.1060,\n",
        "    'num_carriles': 0.0983,\n",
        "    'np.log(longitud)': 0.0138,\n",
        "    'num_Y': 0.0614,\n",
        "    'num_Cruz': 0.0369,\n",
        "    'num_Glorieta': 0.0123,\n",
        "    'num_Ramas': 0,\n",
        "    'num_Recta': 0.0246,\n",
        "    'num_T': 0.1720,\n",
        "}\n",
        "\n",
        "# Seleccionar los coeficientes correspondientes según el tipo de segmento\n",
        "def calcular_predicciones(data, coeficientes):\n",
        "    ln_choques = (\n",
        "        coeficientes['Intercept'] +\n",
        "        coeficientes['np.log(TPDA)'] * np.log(data['TPDA']) +\n",
        "        coeficientes['num_carriles'] * data['num_carriles'] +\n",
        "        coeficientes['np.log(longitud)'] * np.log(data['longitud']) +\n",
        "        coeficientes['num_Y'] * data['num_Y'] +\n",
        "        coeficientes['num_Cruz'] * data['num_Cruz'] +\n",
        "        coeficientes['num_Glorieta'] * data['num_Glorieta'] +\n",
        "        coeficientes['num_Ramas'] * data['num_Ramas'] +\n",
        "        coeficientes['num_Recta'] * data['num_Recta'] +\n",
        "        coeficientes['num_T'] * data['num_T']\n",
        "    )\n",
        "    return np.exp(ln_choques)\n",
        "\n",
        "# Aplicar para segmentos semaforizados y no semaforizados\n",
        "datos['N_pred_no_semaforizadas'] = calcular_predicciones(datos, coef_no_semaforizadas)\n",
        "\n",
        "# Imprimir los resultados\n",
        "print(datos[['TPDA', 'num_carriles', 'longitud', 'N_pred_no_semaforizadas']])\n"
      ],
      "metadata": {
        "colab": {
          "base_uri": "https://localhost:8080/"
        },
        "id": "xkv6KacvP3_q",
        "outputId": "475e4d85-e930-4ddd-ba68-7bfd1462ade1"
      },
      "execution_count": null,
      "outputs": [
        {
          "output_type": "stream",
          "name": "stdout",
          "text": [
            "   TPDA  num_carriles  longitud  N_pred_no_semaforizadas\n",
            "0  5600             8      2.95                101.05493\n"
          ]
        }
      ]
    }
  ]
}