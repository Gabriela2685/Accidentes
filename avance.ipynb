{
  "nbformat": 4,
  "nbformat_minor": 0,
  "metadata": {
    "colab": {
      "provenance": [],
      "authorship_tag": "ABX9TyN2+Ij6qrNr2XlGgM7RiM2D",
      "include_colab_link": true
    },
    "kernelspec": {
      "name": "python3",
      "display_name": "Python 3"
    },
    "language_info": {
      "name": "python"
    }
  },
  "cells": [
    {
      "cell_type": "markdown",
      "metadata": {
        "id": "view-in-github",
        "colab_type": "text"
      },
      "source": [
        "<a href=\"https://colab.research.google.com/github/Gabriela2685/Accidentes/blob/main/avance.ipynb\" target=\"_parent\"><img src=\"https://colab.research.google.com/assets/colab-badge.svg\" alt=\"Open In Colab\"/></a>"
      ]
    },
    {
      "cell_type": "code",
      "execution_count": null,
      "metadata": {
        "id": "NxfzaZgTz8gA"
      },
      "outputs": [],
      "source": [
        "import pandas as pd\n",
        "import folium\n",
        "import numpy as np\n",
        "import statsmodels.api as sm\n",
        "import statsmodels.formula.api as smf\n"
      ]
    },
    {
      "cell_type": "code",
      "source": [
        "camarones = pd.read_csv(\"https://docs.google.com/spreadsheets/d/e/2PACX-1vSeokS35Zs-a_kaCGdkip-OA3tpN0QGF2SURwk7MArAdrKptQQaCnFTRr7to9wWpQ/pub?output=csv\")"
      ],
      "metadata": {
        "id": "lNa6u3r116TB"
      },
      "execution_count": null,
      "outputs": []
    },
    {
      "cell_type": "code",
      "source": [
        "# Crear el mapa centrado en las coordenadas promedio de los datos\n",
        "m = folium.Map(location=[camarones[\"latitud\"].mean(), camarones[\"longitud\"].mean()], zoom_start=13)\n",
        "\n",
        "# Agregar marcadores con tooltip para cada fila del DataFrame\n",
        "for _, row in camarones.iterrows():\n",
        "    # Crear texto para mostrar en el tooltip\n",
        "    tooltip_text = f\"Fecha: {row['fecha_evento']} - {row['latitud']} - {row['longitud']}\"\n",
        "\n",
        "    folium.Marker(\n",
        "        location=[row[\"latitud\"], row[\"longitud\"]],\n",
        "        tooltip=tooltip_text,  # Información que aparece al pasar el mouse\n",
        "        icon=folium.Icon(color=\"blue\", icon=\"info-sign\")\n",
        "    ).add_to(m)\n",
        "\n",
        "# Guardar el mapa en un archivo HTML\n",
        "m.save(\"mapa_accidentes_tooltip.html\")"
      ],
      "metadata": {
        "id": "5uPwDRgx38yR"
      },
      "execution_count": null,
      "outputs": []
    },
    {
      "cell_type": "code",
      "source": [
        "# Mostrar el mapa en Jupyter Notebook (si estás usándolo)\n",
        "m"
      ],
      "metadata": {
        "id": "CxzjwuPT5l7T"
      },
      "execution_count": null,
      "outputs": []
    },
    {
      "cell_type": "markdown",
      "source": [
        "Utiliza una distribución binomial negativa porque los datos de choques suelen ser dispersos (la varianza supera la media), lo cual es común en accidentes de tránsito."
      ],
      "metadata": {
        "id": "iNj4zDl8T_LE"
      }
    },
    {
      "cell_type": "markdown",
      "source": [
        "La función de desempeño es estimada\n",
        "usando un modelo generalizado lineal con una\n",
        "distribución de probabilidad binomial negativa.\n",
        "\n",
        "$ln(choques)=\\beta_{0}+\\beta_{1} ln(TPDA)+\\beta_{2} num carriles+\\beta_{3} ln(longitud)+\\beta_{4}num Y+\\beta_{5}num Cruz+\\beta_{6}num Glorieta+\\beta_{7}num Ramas+\\beta_{8}num Recta+\\beta_{9}num T$"
      ],
      "metadata": {
        "id": "nvQnkHkcULU8"
      }
    },
    {
      "cell_type": "code",
      "source": [
        "#Con semaforos\n",
        "\n",
        "# Crea un DataFrame con tus datos (ajusta los valores a los tuyos)\n",
        "data_semaforizada = pd.DataFrame({\n",
        "    \"Choques\": [64],  # Choques observados en tu análisis\n",
        "    \"TPDA\": [5600],  # Tráfico promedio diario anual\n",
        "    \"num_carriles\": [8],  # Número total de carriles\n",
        "    \"Y\": [1],  # Número total de intersecciones\n",
        "    \"cruz\": [6],\n",
        "    \"glorieta\": [0],\n",
        "    \"ramas_mult\": [4],\n",
        "    \"recta\": [0],\n",
        "    \"T\": [3],\n",
        "    \"Longitud\": [2.95]  # Longitud total de la calzada (km)\n",
        "})\n",
        "\n",
        "# Ajustar el modelo binomial negativo\n",
        "modelo_semaforizado = smf.glm(\n",
        "    \"Choques ~ np.log(TPDA) + num_carriles + Y + cruz + glorieta + ramas_mult + recta + T + np.log(Longitud)\",\n",
        "    data=data_semaforizada,\n",
        "    family=sm.families.NegativeBinomial()\n",
        ").fit()\n",
        "\n",
        "# Resumen del modelo\n",
        "print(modelo_semaforizado.summary())\n"
      ],
      "metadata": {
        "colab": {
          "base_uri": "https://localhost:8080/"
        },
        "outputId": "6086a798-86cc-4d16-abee-2adde22849cc",
        "id": "pJyAuxQfZL0n"
      },
      "execution_count": null,
      "outputs": [
        {
          "output_type": "stream",
          "name": "stdout",
          "text": [
            "                 Generalized Linear Model Regression Results                  \n",
            "==============================================================================\n",
            "Dep. Variable:                Choques   No. Observations:                    1\n",
            "Model:                            GLM   Df Residuals:                        0\n",
            "Model Family:        NegativeBinomial   Df Model:                            0\n",
            "Link Function:                    Log   Scale:                          1.0000\n",
            "Method:                          IRLS   Log-Likelihood:                -5.1667\n",
            "Date:                Tue, 19 Nov 2024   Deviance:                   8.8818e-16\n",
            "Time:                        23:14:43   Pearson chi2:                 1.94e-31\n",
            "No. Iterations:                     1   Pseudo R-squ. (CS):              0.000\n",
            "Covariance Type:            nonrobust                                         \n",
            "====================================================================================\n",
            "                       coef    std err          z      P>|z|      [0.025      0.975]\n",
            "------------------------------------------------------------------------------------\n",
            "Intercept            0.0205      0.005      4.127      0.000       0.011       0.030\n",
            "np.log(TPDA)         0.1771      0.043      4.127      0.000       0.093       0.261\n",
            "num_carriles         0.1642      0.040      4.127      0.000       0.086       0.242\n",
            "Y                    0.0205      0.005      4.127      0.000       0.011       0.030\n",
            "cruz                 0.1231      0.030      4.127      0.000       0.065       0.182\n",
            "glorieta                  0          0        nan        nan           0           0\n",
            "ramas_mult           0.0821      0.020      4.127      0.000       0.043       0.121\n",
            "recta                     0          0        nan        nan           0           0\n",
            "T                    0.0616      0.015      4.127      0.000       0.032       0.091\n",
            "np.log(Longitud)     0.0222      0.005      4.127      0.000       0.012       0.033\n",
            "====================================================================================\n"
          ]
        },
        {
          "output_type": "stream",
          "name": "stderr",
          "text": [
            "/usr/local/lib/python3.10/dist-packages/statsmodels/genmod/families/family.py:1367: ValueWarning: Negative binomial dispersion parameter alpha not set. Using default value alpha=1.0.\n",
            "  warnings.warn(\"Negative binomial dispersion parameter alpha not \"\n"
          ]
        }
      ]
    },
    {
      "cell_type": "code",
      "source": [
        "#Sin semaforos\n",
        "\n",
        "# Crea un DataFrame con tus datos (ajusta los valores a los tuyos)\n",
        "data_no_semaforizada = pd.DataFrame({\n",
        "    \"Choques\": [37],  # Choques observados en tu análisis\n",
        "    \"TPDA\": [5600],  # Tráfico promedio diario anual\n",
        "    \"num_carriles\": [8],  # Número total de carriles\n",
        "    \"Y\": [5],  # Número total de intersecciones\n",
        "    \"cruz\": [3],\n",
        "    \"glorieta\": [1],\n",
        "    \"ramas_mult\": [0],\n",
        "    \"recta\": [2],\n",
        "    \"T\": [14],\n",
        "    \"Longitud\": [2.95]  # Longitud total de la calzada (km)\n",
        "})\n",
        "\n",
        "# Ajustar el modelo binomial negativo\n",
        "modelo_no_semaforizado = smf.glm(\n",
        "    \"Choques ~ np.log(TPDA) + num_carriles + Y + cruz + glorieta + ramas_mult + recta + T + np.log(Longitud)\",\n",
        "    data=data_no_semaforizada,\n",
        "    family=sm.families.NegativeBinomial()\n",
        ").fit()\n",
        "\n",
        "# Resumen del modelo\n",
        "print(modelo_semaforizado.summary())"
      ],
      "metadata": {
        "colab": {
          "base_uri": "https://localhost:8080/"
        },
        "outputId": "95cd39c4-c812-4091-c95f-a0324e4350ae",
        "id": "uPRUt3vYjuRP"
      },
      "execution_count": null,
      "outputs": [
        {
          "output_type": "stream",
          "name": "stdout",
          "text": [
            "                 Generalized Linear Model Regression Results                  \n",
            "==============================================================================\n",
            "Dep. Variable:                Choques   No. Observations:                    1\n",
            "Model:                            GLM   Df Residuals:                        0\n",
            "Model Family:        NegativeBinomial   Df Model:                            0\n",
            "Link Function:                    Log   Scale:                          1.0000\n",
            "Method:                          IRLS   Log-Likelihood:                -5.1667\n",
            "Date:                Tue, 19 Nov 2024   Deviance:                   8.8818e-16\n",
            "Time:                        23:31:55   Pearson chi2:                 1.94e-31\n",
            "No. Iterations:                     1   Pseudo R-squ. (CS):              0.000\n",
            "Covariance Type:            nonrobust                                         \n",
            "====================================================================================\n",
            "                       coef    std err          z      P>|z|      [0.025      0.975]\n",
            "------------------------------------------------------------------------------------\n",
            "Intercept            0.0205      0.005      4.127      0.000       0.011       0.030\n",
            "np.log(TPDA)         0.1771      0.043      4.127      0.000       0.093       0.261\n",
            "num_carriles         0.1642      0.040      4.127      0.000       0.086       0.242\n",
            "Y                    0.0205      0.005      4.127      0.000       0.011       0.030\n",
            "cruz                 0.1231      0.030      4.127      0.000       0.065       0.182\n",
            "glorieta                  0          0        nan        nan           0           0\n",
            "ramas_mult           0.0821      0.020      4.127      0.000       0.043       0.121\n",
            "recta                     0          0        nan        nan           0           0\n",
            "T                    0.0616      0.015      4.127      0.000       0.032       0.091\n",
            "np.log(Longitud)     0.0222      0.005      4.127      0.000       0.012       0.033\n",
            "====================================================================================\n"
          ]
        },
        {
          "output_type": "stream",
          "name": "stderr",
          "text": [
            "/usr/local/lib/python3.10/dist-packages/statsmodels/genmod/families/family.py:1367: ValueWarning: Negative binomial dispersion parameter alpha not set. Using default value alpha=1.0.\n",
            "  warnings.warn(\"Negative binomial dispersion parameter alpha not \"\n"
          ]
        }
      ]
    },
    {
      "cell_type": "code",
      "source": [
        "import statsmodels.formula.api as smf\n",
        "import pandas as pd\n",
        "import numpy as np\n",
        "\n",
        "data_no_semaforizada = pd.DataFrame({\n",
        "    \"Choques\": [37, 45, 50],  # Ejemplo con más observaciones\n",
        "    \"TPDA\": [5600, 6000, 5800],\n",
        "    \"num_carriles\": [8, 6, 7],\n",
        "    \"Y\": [5, 4, 6],\n",
        "    \"cruz\": [3, 5, 4],\n",
        "    \"glorieta\": [1, 0, 1],\n",
        "    \"ramas_mult\": [0, 1, 0],\n",
        "    \"recta\": [2, 3, 2],\n",
        "    \"T\": [14, 10, 12],\n",
        "    \"Longitud\": [2.95, 3.5, 3.1]\n",
        "})\n",
        "\n",
        "\n",
        "# Ajustar el modelo binomial negativo con estimación de sobredispersión\n",
        "modelo_no_semaforizado = smf.negativebinomial(\n",
        "    \"Choques ~ np.log(TPDA) + num_carriles + np.log(Longitud) + Y + cruz + glorieta + ramas_mult + recta + T\",\n",
        "    data=data_no_semaforizada\n",
        ").fit()\n",
        "\n",
        "# Resumen del modelo\n",
        "print(modelo_no_semaforizado.summary())\n",
        "\n",
        "# Extraer el parámetro de sobredispersión (alpha)\n",
        "alpha_no_semaforizadas = modelo_no_semaforizado.params['alpha']\n",
        "print(f\"Alpha (sobredispersión) para no semaforizadas: {alpha_no_semaforizadas}\")\n",
        "\n",
        "# Calcular k\n",
        "k_no_semaforizadas = 1 / alpha_no_semaforizadas\n",
        "print(f\"k para no semaforizadas: {k_no_semaforizadas}\")\n"
      ],
      "metadata": {
        "colab": {
          "base_uri": "https://localhost:8080/"
        },
        "id": "1CsKokwplYTz",
        "outputId": "7ec67ead-685e-4703-c301-2d922c989fec"
      },
      "execution_count": null,
      "outputs": [
        {
          "output_type": "stream",
          "name": "stderr",
          "text": [
            "/usr/local/lib/python3.10/dist-packages/statsmodels/discrete/discrete_model.py:227: PerfectSeparationWarning: Perfect separation or prediction detected, parameter may not be identified\n",
            "  warnings.warn(msg, category=PerfectSeparationWarning)\n",
            "/usr/local/lib/python3.10/dist-packages/statsmodels/discrete/discrete_model.py:3698: RuntimeWarning: divide by zero encountered in scalar divide\n",
            "  a = ((resid**2 / mu - 1) / mu).sum() / df_resid\n",
            "/usr/local/lib/python3.10/dist-packages/statsmodels/base/model.py:595: HessianInversionWarning: Inverting hessian failed, no bse or cov_params available\n",
            "  warnings.warn('Inverting hessian failed, no bse or cov_params '\n",
            "/usr/local/lib/python3.10/dist-packages/statsmodels/discrete/discrete_model.py:3739: RuntimeWarning: invalid value encountered in log\n",
            "  start_params[-1] = np.log(start_params[-1])\n"
          ]
        },
        {
          "output_type": "stream",
          "name": "stdout",
          "text": [
            "Optimization terminated successfully.\n",
            "         Current function value: 2.809132\n",
            "         Iterations: 20\n",
            "         Function evaluations: 27\n",
            "         Gradient evaluations: 27\n",
            "                     NegativeBinomial Regression Results                      \n",
            "==============================================================================\n",
            "Dep. Variable:                Choques   No. Observations:                    3\n",
            "Model:               NegativeBinomial   Df Residuals:                        0\n",
            "Method:                           MLE   Df Model:                            2\n",
            "Date:                Tue, 19 Nov 2024   Pseudo R-squ.:                     nan\n",
            "Time:                        23:30:07   Log-Likelihood:                -8.4274\n",
            "converged:                       True   LL-Null:                           nan\n",
            "Covariance Type:            nonrobust   LLR p-value:                       nan\n",
            "====================================================================================\n",
            "                       coef    std err          z      P>|z|      [0.025      0.975]\n",
            "------------------------------------------------------------------------------------\n",
            "Intercept            3.7857        nan        nan        nan         nan         nan\n",
            "np.log(TPDA)         0.0155        nan        nan        nan         nan         nan\n",
            "num_carriles        -0.0265        nan        nan        nan         nan         nan\n",
            "np.log(Longitud)     0.0031        nan        nan        nan         nan         nan\n",
            "Y                    0.1144        nan        nan        nan         nan         nan\n",
            "cruz                 0.0456        nan        nan        nan         nan         nan\n",
            "glorieta             0.0245        nan        nan        nan         nan         nan\n",
            "ramas_mult          -0.0210        nan        nan        nan         nan         nan\n",
            "recta               -0.0180        nan        nan        nan         nan         nan\n",
            "T                   -0.0570        nan        nan        nan         nan         nan\n",
            "alpha             9.993e-08        nan        nan        nan         nan         nan\n",
            "====================================================================================\n",
            "Alpha (sobredispersión) para no semaforizadas: 9.993187848563159e-08\n",
            "k para no semaforizadas: 10006816.795140922\n"
          ]
        },
        {
          "output_type": "stream",
          "name": "stderr",
          "text": [
            "/usr/local/lib/python3.10/dist-packages/statsmodels/base/model.py:595: HessianInversionWarning: Inverting hessian failed, no bse or cov_params available\n",
            "  warnings.warn('Inverting hessian failed, no bse or cov_params '\n",
            "/usr/local/lib/python3.10/dist-packages/statsmodels/base/model.py:595: HessianInversionWarning: Inverting hessian failed, no bse or cov_params available\n",
            "  warnings.warn('Inverting hessian failed, no bse or cov_params '\n"
          ]
        }
      ]
    },
    {
      "cell_type": "markdown",
      "source": [
        "Numero esperado de choques\n",
        "\n",
        "$N_{pred} = e^{\\beta_0}*TPDA^{\\beta_1}*e^{\\beta_2 numCarriles}*Longitud^{\\beta_3}*e^{\\beta_4 num Y}*e^{\\beta_5 num Cruz}*e^{\\beta_6 num Glorieta}*e^{\\beta_7 num Ramas}*e^{\\beta_8 num Recta}*e^{\\beta_9 num T}$"
      ],
      "metadata": {
        "id": "jtf3O7zAKAfW"
      }
    },
    {
      "cell_type": "code",
      "source": [
        "#Con semaforos\n",
        "\n",
        "datos = pd.DataFrame({\n",
        "    'TPDA': [5600],  # Ejemplo: tráfico promedio diario anual\n",
        "    'num_carriles': [8],  # Número de carriles\n",
        "    'longitud': [2.95],  # Longitud del segmento vial en km\n",
        "    'num_Y': [1],\n",
        "    'num_Cruz': [6],\n",
        "    'num_Glorieta': [0],\n",
        "    'num_Ramas': [4],\n",
        "    'num_Recta': [0],\n",
        "    'num_T': [3],\n",
        "})\n",
        "\n",
        "# Coeficientes para intersecciones semaforizadas\n",
        "coef_semaforizadas = {\n",
        "    'Intercept': 0.0205,\n",
        "    'np.log(TPDA)': 0.1771,\n",
        "    'num_carriles': 0.1642,\n",
        "    'np.log(longitud)': 0.222,\n",
        "    'num_Y': 0.0205,\n",
        "    'num_Cruz': 0.1231,\n",
        "    'num_Glorieta': 0,  # No aplicable aquí\n",
        "    'num_Ramas': 0.0821,\n",
        "    'num_Recta': 0,  # No aplicable aquí\n",
        "    'num_T': 0.0616,\n",
        "}\n",
        "\n",
        "# Seleccionar los coeficientes correspondientes según el tipo de segmento\n",
        "def calcular_predicciones(data, coeficientes):\n",
        "    ln_choques = (\n",
        "        coeficientes['Intercept'] +\n",
        "        coeficientes['np.log(TPDA)'] * np.log(data['TPDA']) +\n",
        "        coeficientes['num_carriles'] * data['num_carriles'] +\n",
        "        coeficientes['np.log(longitud)'] * np.log(data['longitud']) +\n",
        "        coeficientes['num_Y'] * data['num_Y'] +\n",
        "        coeficientes['num_Cruz'] * data['num_Cruz'] +\n",
        "        coeficientes['num_Glorieta'] * data['num_Glorieta'] +\n",
        "        coeficientes['num_Ramas'] * data['num_Ramas'] +\n",
        "        coeficientes['num_Recta'] * data['num_Recta'] +\n",
        "        coeficientes['num_T'] * data['num_T']\n",
        "    )\n",
        "    return np.exp(ln_choques)\n",
        "\n",
        "# Aplicar para segmentos semaforizados\n",
        "datos['N_pred_semaforizadas'] = calcular_predicciones(datos, coef_semaforizadas)\n",
        "\n",
        "# Imprimir los resultados\n",
        "print(datos[['TPDA', 'num_carriles', 'longitud', 'N_pred_semaforizadas']])"
      ],
      "metadata": {
        "colab": {
          "base_uri": "https://localhost:8080/"
        },
        "id": "mSPNHSxGPAim",
        "outputId": "e3eb0a0a-2a87-4d89-fc74-15432bb7655e"
      },
      "execution_count": null,
      "outputs": [
        {
          "output_type": "stream",
          "name": "stdout",
          "text": [
            "   TPDA  num_carriles  longitud  N_pred_semaforizadas\n",
            "0  5600             8      2.95             79.441919\n"
          ]
        }
      ]
    },
    {
      "cell_type": "code",
      "source": [
        "#Sin semaforos\n",
        "\n",
        "datos = pd.DataFrame({\n",
        "    'TPDA': [5600],  # Ejemplo: tráfico promedio diario anual\n",
        "    'num_carriles': [8],  # Número de carriles\n",
        "    'longitud': [2.95],  # Longitud del segmento vial en km\n",
        "    'num_Y': [5],\n",
        "    'num_Cruz': [3],\n",
        "    'num_Glorieta': [1],\n",
        "    'num_Ramas': [0],\n",
        "    'num_Recta': [2],\n",
        "    'num_T': [14],\n",
        "})\n",
        "\n",
        "# Coeficientes para intersecciones no semaforizadas\n",
        "coef_no_semaforizadas = {\n",
        "    'Intercept': 0.0096,\n",
        "    'np.log(TPDA)': 0.0830,\n",
        "    'num_carriles': 0.0769,\n",
        "    'np.log(longitud)': 0.0104,\n",
        "    'num_Y': 0.0481,\n",
        "    'num_Cruz': 0.0288,\n",
        "    'num_Glorieta': 0.0096,\n",
        "    'num_Ramas': 0,\n",
        "    'num_Recta': 0.0192,\n",
        "    'num_T': 0.1346,\n",
        "}\n",
        "\n",
        "# Seleccionar los coeficientes correspondientes según el tipo de segmento\n",
        "def calcular_predicciones(data, coeficientes):\n",
        "    ln_choques = (\n",
        "        coeficientes['Intercept'] +\n",
        "        coeficientes['np.log(TPDA)'] * np.log(data['TPDA']) +\n",
        "        coeficientes['num_carriles'] * data['num_carriles'] +\n",
        "        coeficientes['np.log(longitud)'] * np.log(data['longitud']) +\n",
        "        coeficientes['num_Y'] * data['num_Y'] +\n",
        "        coeficientes['num_Cruz'] * data['num_Cruz'] +\n",
        "        coeficientes['num_Glorieta'] * data['num_Glorieta'] +\n",
        "        coeficientes['num_Ramas'] * data['num_Ramas'] +\n",
        "        coeficientes['num_Recta'] * data['num_Recta'] +\n",
        "        coeficientes['num_T'] * data['num_T']\n",
        "    )\n",
        "    return np.exp(ln_choques)\n",
        "\n",
        "# Aplicar para segmentos semaforizados y no semaforizados\n",
        "datos['N_pred_no_semaforizadas'] = calcular_predicciones(datos, coef_no_semaforizadas)\n",
        "\n",
        "# Imprimir los resultados\n",
        "print(datos[['TPDA', 'num_carriles', 'longitud', 'N_pred_no_semaforizadas']])\n"
      ],
      "metadata": {
        "colab": {
          "base_uri": "https://localhost:8080/"
        },
        "id": "xkv6KacvP3_q",
        "outputId": "2b6d1b27-fdba-422f-929a-db35506d7eb7"
      },
      "execution_count": null,
      "outputs": [
        {
          "output_type": "stream",
          "name": "stdout",
          "text": [
            "   TPDA  num_carriles  longitud  N_pred_no_semaforizadas\n",
            "0  5600             8      2.95                37.028359\n"
          ]
        }
      ]
    },
    {
      "cell_type": "markdown",
      "source": [
        "ahora sigue el ajuste de peso, que es la confiabilidad de la funcion de desempeño de seguridad que se esta utilizando y este se alcula asi\n",
        "\n",
        "$w=\\frac{1}{1+k(N_{pred})}$\n",
        "\n",
        "en doinde k es el parametro de sobredispersion de la funcion de desempeño de seguridad, en este caso w se conoce como el peso de byes empirico"
      ],
      "metadata": {
        "id": "N8g9O24icvGc"
      }
    },
    {
      "cell_type": "code",
      "source": [
        "# Extraer el parámetro de sobredispersión (k) del modelo ajustado\n",
        "k_semaforizadas = modelo_semaforizado.scale\n",
        "k_no_semaforizadas = modelo_no_semaforizado.scale\n",
        "\n",
        "print(\"k para semaforizadas:\", k_semaforizadas)\n",
        "print(\"k para no semaforizadas:\", k_no_semaforizadas)\n"
      ],
      "metadata": {
        "colab": {
          "base_uri": "https://localhost:8080/"
        },
        "id": "qlEksjZWeVS0",
        "outputId": "791c993b-8587-45a2-9b43-4cb684c29052"
      },
      "execution_count": null,
      "outputs": [
        {
          "output_type": "stream",
          "name": "stdout",
          "text": [
            "k para semaforizadas: 1.0\n",
            "k para no semaforizadas: 1.0\n"
          ]
        }
      ]
    }
  ]
}