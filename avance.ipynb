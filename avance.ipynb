{
  "nbformat": 4,
  "nbformat_minor": 0,
  "metadata": {
    "colab": {
      "provenance": [],
      "authorship_tag": "ABX9TyMkRhAJ1/IQQ/EjWO4AP/3M",
      "include_colab_link": true
    },
    "kernelspec": {
      "name": "python3",
      "display_name": "Python 3"
    },
    "language_info": {
      "name": "python"
    }
  },
  "cells": [
    {
      "cell_type": "markdown",
      "metadata": {
        "id": "view-in-github",
        "colab_type": "text"
      },
      "source": [
        "<a href=\"https://colab.research.google.com/github/Gabriela2685/Accidentes/blob/main/avance.ipynb\" target=\"_parent\"><img src=\"https://colab.research.google.com/assets/colab-badge.svg\" alt=\"Open In Colab\"/></a>"
      ]
    },
    {
      "cell_type": "code",
      "execution_count": null,
      "metadata": {
        "id": "NxfzaZgTz8gA"
      },
      "outputs": [],
      "source": [
        "import pandas as pd\n",
        "import folium\n",
        "import numpy as np\n",
        "import statsmodels.api as sm\n",
        "import statsmodels.formula.api as smf\n"
      ]
    },
    {
      "cell_type": "code",
      "source": [
        "camarones = pd.read_csv(\"https://docs.google.com/spreadsheets/d/e/2PACX-1vSeokS35Zs-a_kaCGdkip-OA3tpN0QGF2SURwk7MArAdrKptQQaCnFTRr7to9wWpQ/pub?output=csv\")"
      ],
      "metadata": {
        "id": "lNa6u3r116TB"
      },
      "execution_count": null,
      "outputs": []
    },
    {
      "cell_type": "code",
      "source": [
        "# Crear el mapa centrado en las coordenadas promedio de los datos\n",
        "m = folium.Map(location=[camarones[\"latitud\"].mean(), camarones[\"longitud\"].mean()], zoom_start=13)\n",
        "\n",
        "# Agregar marcadores con tooltip para cada fila del DataFrame\n",
        "for _, row in camarones.iterrows():\n",
        "    # Crear texto para mostrar en el tooltip\n",
        "    tooltip_text = f\"Fecha: {row['fecha_evento']} - {row['latitud']} - {row['longitud']}\"\n",
        "\n",
        "    folium.Marker(\n",
        "        location=[row[\"latitud\"], row[\"longitud\"]],\n",
        "        tooltip=tooltip_text,  # Información que aparece al pasar el mouse\n",
        "        icon=folium.Icon(color=\"blue\", icon=\"info-sign\")\n",
        "    ).add_to(m)\n",
        "\n",
        "# Guardar el mapa en un archivo HTML\n",
        "m.save(\"mapa_accidentes_tooltip.html\")"
      ],
      "metadata": {
        "id": "5uPwDRgx38yR"
      },
      "execution_count": null,
      "outputs": []
    },
    {
      "cell_type": "code",
      "source": [
        "# Mostrar el mapa en Jupyter Notebook (si estás usándolo)\n",
        "m"
      ],
      "metadata": {
        "id": "CxzjwuPT5l7T"
      },
      "execution_count": null,
      "outputs": []
    },
    {
      "cell_type": "markdown",
      "source": [
        "Utiliza una distribución binomial negativa porque los datos de choques suelen ser dispersos (la varianza supera la media), lo cual es común en accidentes de tránsito."
      ],
      "metadata": {
        "id": "iNj4zDl8T_LE"
      }
    },
    {
      "cell_type": "markdown",
      "source": [
        "La función de desempeño es estimada\n",
        "usando un modelo generalizado lineal con una\n",
        "distribución de probabilidad binomial negativa.\n",
        "\n",
        "$ln(choques)=\\beta_{0}+\\beta_{1} ln(TPDA)+\\beta_{2} num carriles+\\beta_{3} ln(longitud)+\\beta_{4}intersecciones+\\beta_{5}semaforos$"
      ],
      "metadata": {
        "id": "nvQnkHkcULU8"
      }
    },
    {
      "cell_type": "code",
      "source": [
        "#Con semaforos\n",
        "\n",
        "# Crea un DataFrame con tus datos (ajusta los valores a los tuyos)\n",
        "data = pd.DataFrame({\n",
        "    \"Choques\": [101],  # Choques observados en tu análisis\n",
        "    \"TPDA\": [5600],  # Tráfico promedio diario anual\n",
        "    \"num_carriles\": [8],  # Número total de carriles\n",
        "    \"Y\": [1],  # Número total de intersecciones\n",
        "    \"cruz\": [6],\n",
        "    \"glorieta\": [0],\n",
        "    \"ramas_mult\": [4],\n",
        "    \"recta\": [0],\n",
        "    \"T\": [3],\n",
        "    \"Longitud\": [2.95]  # Longitud total de la calzada (km)\n",
        "})\n",
        "\n",
        "# Ajustar el modelo binomial negativo\n",
        "modelo = smf.glm(\n",
        "    \"Choques ~ np.log(TPDA) + num_carriles + Y + cruz + glorieta + ramas_mult + recta + T + np.log(Longitud)\",\n",
        "    data=data,\n",
        "    family=sm.families.NegativeBinomial()\n",
        ").fit()\n",
        "\n",
        "# Resumen del modelo\n",
        "print(modelo.summary())\n"
      ],
      "metadata": {
        "colab": {
          "base_uri": "https://localhost:8080/"
        },
        "outputId": "ebef8404-4d61-461f-d3bc-313621cb2cbf",
        "id": "pJyAuxQfZL0n"
      },
      "execution_count": null,
      "outputs": [
        {
          "output_type": "stream",
          "name": "stdout",
          "text": [
            "                 Generalized Linear Model Regression Results                  \n",
            "==============================================================================\n",
            "Dep. Variable:                Choques   No. Observations:                    1\n",
            "Model:                            GLM   Df Residuals:                        0\n",
            "Model Family:        NegativeBinomial   Df Model:                            0\n",
            "Link Function:                    Log   Scale:                          1.0000\n",
            "Method:                          IRLS   Log-Likelihood:                -5.6201\n",
            "Date:                Tue, 19 Nov 2024   Deviance:                  -3.1086e-15\n",
            "Time:                        05:30:19   Pearson chi2:                 2.37e-30\n",
            "No. Iterations:                     1   Pseudo R-squ. (CS):         -2.274e-13\n",
            "Covariance Type:            nonrobust                                         \n",
            "====================================================================================\n",
            "                       coef    std err          z      P>|z|      [0.025      0.975]\n",
            "------------------------------------------------------------------------------------\n",
            "Intercept            0.0228      0.005      4.592      0.000       0.013       0.032\n",
            "np.log(TPDA)         0.1965      0.043      4.592      0.000       0.113       0.280\n",
            "num_carriles         0.1822      0.040      4.592      0.000       0.104       0.260\n",
            "Y                    0.0228      0.005      4.592      0.000       0.013       0.032\n",
            "cruz                 0.1366      0.030      4.592      0.000       0.078       0.195\n",
            "glorieta                  0          0        nan        nan           0           0\n",
            "ramas_mult           0.0911      0.020      4.592      0.000       0.052       0.130\n",
            "recta                     0          0        nan        nan           0           0\n",
            "T                    0.0683      0.015      4.592      0.000       0.039       0.097\n",
            "np.log(Longitud)     0.0246      0.005      4.592      0.000       0.014       0.035\n",
            "====================================================================================\n"
          ]
        },
        {
          "output_type": "stream",
          "name": "stderr",
          "text": [
            "/usr/local/lib/python3.10/dist-packages/statsmodels/genmod/families/family.py:1367: ValueWarning: Negative binomial dispersion parameter alpha not set. Using default value alpha=1.0.\n",
            "  warnings.warn(\"Negative binomial dispersion parameter alpha not \"\n"
          ]
        }
      ]
    },
    {
      "cell_type": "code",
      "source": [
        "#Sin semaforos\n",
        "\n",
        "# Crea un DataFrame con tus datos (ajusta los valores a los tuyos)\n",
        "data = pd.DataFrame({\n",
        "    \"Choques\": [101],  # Choques observados en tu análisis\n",
        "    \"TPDA\": [5600],  # Tráfico promedio diario anual\n",
        "    \"num_carriles\": [8],  # Número total de carriles\n",
        "    \"Y\": [5],  # Número total de intersecciones\n",
        "    \"cruz\": [3],\n",
        "    \"glorieta\": [1],\n",
        "    \"ramas_mult\": [0],\n",
        "    \"recta\": [2],\n",
        "    \"T\": [14],\n",
        "    \"Longitud\": [2.95]  # Longitud total de la calzada (km)\n",
        "})\n",
        "\n",
        "# Ajusta el modelo binomial negativo y permite estimar el parámetro de dispersión\n",
        "modelo_nb = sm.GLM.from_formula(\n",
        "    \"Choques ~ np.log(TPDA) + num_carriles + Y + cruz + glorieta + ramas_mult + recta + T + np.log(Longitud)\",\n",
        "    data=data,\n",
        "    family=sm.families.NegativeBinomial()).fit()\n",
        "\n",
        "# Imprime el resumen del modelo\n",
        "print(modelo_nb.summary())"
      ],
      "metadata": {
        "colab": {
          "base_uri": "https://localhost:8080/"
        },
        "outputId": "31c689bb-bed1-4a42-e3b7-615a7c48e0af",
        "id": "uPRUt3vYjuRP"
      },
      "execution_count": null,
      "outputs": [
        {
          "output_type": "stream",
          "name": "stdout",
          "text": [
            "                 Generalized Linear Model Regression Results                  \n",
            "==============================================================================\n",
            "Dep. Variable:                Choques   No. Observations:                    1\n",
            "Model:                            GLM   Df Residuals:                        0\n",
            "Model Family:        NegativeBinomial   Df Model:                            0\n",
            "Link Function:                    Log   Scale:                          1.0000\n",
            "Method:                          IRLS   Log-Likelihood:                -5.6201\n",
            "Date:                Tue, 19 Nov 2024   Deviance:                   3.9968e-15\n",
            "Time:                        05:32:03   Pearson chi2:                 3.84e-30\n",
            "No. Iterations:                     1   Pseudo R-squ. (CS):         -2.274e-13\n",
            "Covariance Type:            nonrobust                                         \n",
            "====================================================================================\n",
            "                       coef    std err          z      P>|z|      [0.025      0.975]\n",
            "------------------------------------------------------------------------------------\n",
            "Intercept            0.0123      0.003      4.592      0.000       0.007       0.018\n",
            "np.log(TPDA)         0.1060      0.023      4.592      0.000       0.061       0.151\n",
            "num_carriles         0.0983      0.021      4.592      0.000       0.056       0.140\n",
            "Y                    0.0614      0.013      4.592      0.000       0.035       0.088\n",
            "cruz                 0.0369      0.008      4.592      0.000       0.021       0.053\n",
            "glorieta             0.0123      0.003      4.592      0.000       0.007       0.018\n",
            "ramas_mult                0          0        nan        nan           0           0\n",
            "recta                0.0246      0.005      4.592      0.000       0.014       0.035\n",
            "T                    0.1720      0.037      4.592      0.000       0.099       0.245\n",
            "np.log(Longitud)     0.0133      0.003      4.592      0.000       0.008       0.019\n",
            "====================================================================================\n"
          ]
        },
        {
          "output_type": "stream",
          "name": "stderr",
          "text": [
            "/usr/local/lib/python3.10/dist-packages/statsmodels/genmod/families/family.py:1367: ValueWarning: Negative binomial dispersion parameter alpha not set. Using default value alpha=1.0.\n",
            "  warnings.warn(\"Negative binomial dispersion parameter alpha not \"\n"
          ]
        }
      ]
    },
    {
      "cell_type": "code",
      "source": [
        "print(\"Parámetro de dispersión (alpha):\", modelo_nb.scale)\n"
      ],
      "metadata": {
        "colab": {
          "base_uri": "https://localhost:8080/"
        },
        "id": "qouCjf546SnC",
        "outputId": "27397d79-cc88-4697-b2cf-a5d8934b06b3"
      },
      "execution_count": null,
      "outputs": [
        {
          "output_type": "stream",
          "name": "stdout",
          "text": [
            "Parámetro de dispersión (alpha): 1.0\n"
          ]
        }
      ]
    }
  ]
}