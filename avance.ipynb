{
  "nbformat": 4,
  "nbformat_minor": 0,
  "metadata": {
    "colab": {
      "provenance": [],
      "authorship_tag": "ABX9TyMSbjrvKlVY5s/MrzI9xqJE",
      "include_colab_link": true
    },
    "kernelspec": {
      "name": "python3",
      "display_name": "Python 3"
    },
    "language_info": {
      "name": "python"
    }
  },
  "cells": [
    {
      "cell_type": "markdown",
      "metadata": {
        "id": "view-in-github",
        "colab_type": "text"
      },
      "source": [
        "<a href=\"https://colab.research.google.com/github/Gabriela2685/Accidentes/blob/main/avance.ipynb\" target=\"_parent\"><img src=\"https://colab.research.google.com/assets/colab-badge.svg\" alt=\"Open In Colab\"/></a>"
      ]
    },
    {
      "cell_type": "code",
      "execution_count": 10,
      "metadata": {
        "id": "NxfzaZgTz8gA"
      },
      "outputs": [],
      "source": [
        "import pandas as pd\n",
        "import folium\n",
        "import numpy as np\n",
        "import statsmodels.api as sm\n",
        "import statsmodels.formula.api as smf\n"
      ]
    },
    {
      "cell_type": "code",
      "source": [
        "camarones = pd.read_csv(\"https://docs.google.com/spreadsheets/d/e/2PACX-1vSeokS35Zs-a_kaCGdkip-OA3tpN0QGF2SURwk7MArAdrKptQQaCnFTRr7to9wWpQ/pub?output=csv\")"
      ],
      "metadata": {
        "id": "lNa6u3r116TB"
      },
      "execution_count": 8,
      "outputs": []
    },
    {
      "cell_type": "code",
      "source": [
        "# Crear el mapa centrado en las coordenadas promedio de los datos\n",
        "m = folium.Map(location=[camarones[\"latitud\"].mean(), camarones[\"longitud\"].mean()], zoom_start=13)\n",
        "\n",
        "# Agregar marcadores con tooltip para cada fila del DataFrame\n",
        "for _, row in camarones.iterrows():\n",
        "    # Crear texto para mostrar en el tooltip\n",
        "    tooltip_text = f\"Fecha: {row['fecha_evento']} - {row['tipo_evento']} - {row['latitud']} - {row['longitud']}\"\n",
        "\n",
        "    folium.Marker(\n",
        "        location=[row[\"latitud\"], row[\"longitud\"]],\n",
        "        tooltip=tooltip_text,  # Información que aparece al pasar el mouse\n",
        "        icon=folium.Icon(color=\"blue\", icon=\"info-sign\")\n",
        "    ).add_to(m)\n",
        "\n",
        "# Guardar el mapa en un archivo HTML\n",
        "m.save(\"mapa_accidentes_tooltip.html\")\n",
        "\n",
        "# Mostrar el mapa en Jupyter Notebook (si estás usándolo)\n",
        "m\n"
      ],
      "metadata": {
        "id": "5uPwDRgx38yR"
      },
      "execution_count": null,
      "outputs": []
    },
    {
      "cell_type": "markdown",
      "source": [
        "Utiliza una distribución binomial negativa porque los datos de choques suelen ser dispersos (la varianza supera la media), lo cual es común en accidentes de tránsito."
      ],
      "metadata": {
        "id": "iNj4zDl8T_LE"
      }
    },
    {
      "cell_type": "markdown",
      "source": [
        "La función de desempeño es estimada\n",
        "usando un modelo generalizado lineal con una\n",
        "distribución de probabilidad binomial negativa.\n",
        "\n",
        "$ln(choques)=\\beta_{0}+\\beta_{1} ln(TPDA)+\\beta_{2} num carriles+\\beta_{3} ln(longitud)+\\beta_{4}intersecciones+\\beta_{5}semaforos$"
      ],
      "metadata": {
        "id": "nvQnkHkcULU8"
      }
    },
    {
      "cell_type": "code",
      "source": [
        "# Crea un DataFrame con tus datos (ajusta los valores a los tuyos)\n",
        "data = pd.DataFrame({\n",
        "    \"Choques\": [123],  # Choques observados en tu análisis\n",
        "    \"TPDA\": [6600],  # Tráfico promedio diario anual\n",
        "    \"num_carriles\": [8],  # Número total de carriles\n",
        "    \"intersecciones\": [8],  # Número total de intersecciones\n",
        "    \"semaforos\": [19],  # Número total de semáforos\n",
        "    \"Longitud\": [2.95]  # Longitud total de la calzada (km)\n",
        "})\n",
        "\n",
        "# Ajustar el modelo binomial negativo\n",
        "modelo = smf.glm(\n",
        "    \"Choques ~ np.log(TPDA) + num_carriles + intersecciones + semaforos + np.log(Longitud)\",\n",
        "    data=data,\n",
        "    family=sm.families.NegativeBinomial()\n",
        ").fit()\n",
        "\n",
        "# Resumen del modelo\n",
        "print(modelo.summary())\n"
      ],
      "metadata": {
        "colab": {
          "base_uri": "https://localhost:8080/"
        },
        "id": "DhFzTGibSyfc",
        "outputId": "b99f2980-a7fb-4f88-aab1-39ded10b2edb"
      },
      "execution_count": 11,
      "outputs": [
        {
          "output_type": "stream",
          "name": "stdout",
          "text": [
            "                 Generalized Linear Model Regression Results                  \n",
            "==============================================================================\n",
            "Dep. Variable:                Choques   No. Observations:                    1\n",
            "Model:                            GLM   Df Residuals:                        0\n",
            "Model Family:        NegativeBinomial   Df Model:                            0\n",
            "Link Function:                    Log   Scale:                          1.0000\n",
            "Method:                          IRLS   Log-Likelihood:                -5.8162\n",
            "Date:                Tue, 19 Nov 2024   Deviance:                   8.8818e-16\n",
            "Time:                        02:43:06   Pearson chi2:                 2.12e-31\n",
            "No. Iterations:                     1   Pseudo R-squ. (CS):          2.274e-13\n",
            "Covariance Type:            nonrobust                                         \n",
            "====================================================================================\n",
            "                       coef    std err          z      P>|z|      [0.025      0.975]\n",
            "------------------------------------------------------------------------------------\n",
            "Intercept            0.0085      0.002      4.793      0.000       0.005       0.012\n",
            "np.log(TPDA)         0.0744      0.016      4.793      0.000       0.044       0.105\n",
            "num_carriles         0.0677      0.014      4.793      0.000       0.040       0.095\n",
            "intersecciones       0.0677      0.014      4.793      0.000       0.040       0.095\n",
            "semaforos            0.1608      0.034      4.793      0.000       0.095       0.227\n",
            "np.log(Longitud)     0.0092      0.002      4.793      0.000       0.005       0.013\n",
            "====================================================================================\n"
          ]
        },
        {
          "output_type": "stream",
          "name": "stderr",
          "text": [
            "/usr/local/lib/python3.10/dist-packages/statsmodels/genmod/families/family.py:1367: ValueWarning: Negative binomial dispersion parameter alpha not set. Using default value alpha=1.0.\n",
            "  warnings.warn(\"Negative binomial dispersion parameter alpha not \"\n"
          ]
        }
      ]
    },
    {
      "cell_type": "code",
      "source": [
        "#Con semaforos\n",
        "\n",
        "# Crea un DataFrame con tus datos (ajusta los valores a los tuyos)\n",
        "data = pd.DataFrame({\n",
        "    \"Choques\": [123],  # Choques observados en tu análisis\n",
        "    \"TPDA\": [6600],  # Tráfico promedio diario anual\n",
        "    \"num_carriles\": [8],  # Número total de carriles\n",
        "    \"Y\": [1],  # Número total de intersecciones\n",
        "    \"cruz\": [7],\n",
        "    \"glorieta\": [0],\n",
        "    \"ramas_mult\": [5],\n",
        "    \"recta\": [0],\n",
        "    \"T\": [3],\n",
        "    \"Longitud\": [2.95]  # Longitud total de la calzada (km)\n",
        "})\n",
        "\n",
        "# Ajustar el modelo binomial negativo\n",
        "modelo = smf.glm(\n",
        "    \"Choques ~ np.log(TPDA) + num_carriles + Y + cruz + glorieta + ramas_mult + recta + T + np.log(Longitud)\",\n",
        "    data=data,\n",
        "    family=sm.families.NegativeBinomial()\n",
        ").fit()\n",
        "\n",
        "# Resumen del modelo\n",
        "print(modelo.summary())\n"
      ],
      "metadata": {
        "colab": {
          "base_uri": "https://localhost:8080/"
        },
        "outputId": "feffa744-6fb3-466f-9bd5-21880c0d2277",
        "id": "pJyAuxQfZL0n"
      },
      "execution_count": 14,
      "outputs": [
        {
          "output_type": "stream",
          "name": "stdout",
          "text": [
            "                 Generalized Linear Model Regression Results                  \n",
            "==============================================================================\n",
            "Dep. Variable:                Choques   No. Observations:                    1\n",
            "Model:                            GLM   Df Residuals:                        0\n",
            "Model Family:        NegativeBinomial   Df Model:                            0\n",
            "Link Function:                    Log   Scale:                          1.0000\n",
            "Method:                          IRLS   Log-Likelihood:                -5.8162\n",
            "Date:                Tue, 19 Nov 2024   Deviance:                  -2.6645e-15\n",
            "Time:                        03:56:21   Pearson chi2:                 1.60e-30\n",
            "No. Iterations:                     1   Pseudo R-squ. (CS):          2.274e-13\n",
            "Covariance Type:            nonrobust                                         \n",
            "====================================================================================\n",
            "                       coef    std err          z      P>|z|      [0.025      0.975]\n",
            "------------------------------------------------------------------------------------\n",
            "Intercept            0.0212      0.004      4.793      0.000       0.013       0.030\n",
            "np.log(TPDA)         0.1860      0.039      4.793      0.000       0.110       0.262\n",
            "num_carriles         0.1692      0.035      4.793      0.000       0.100       0.238\n",
            "Y                    0.0212      0.004      4.793      0.000       0.013       0.030\n",
            "cruz                 0.1481      0.031      4.793      0.000       0.088       0.209\n",
            "glorieta                  0          0        nan        nan           0           0\n",
            "ramas_mult           0.1058      0.022      4.793      0.000       0.063       0.149\n",
            "recta                     0          0        nan        nan           0           0\n",
            "T                    0.0635      0.013      4.793      0.000       0.038       0.089\n",
            "np.log(Longitud)     0.0229      0.005      4.793      0.000       0.014       0.032\n",
            "====================================================================================\n"
          ]
        },
        {
          "output_type": "stream",
          "name": "stderr",
          "text": [
            "/usr/local/lib/python3.10/dist-packages/statsmodels/genmod/families/family.py:1367: ValueWarning: Negative binomial dispersion parameter alpha not set. Using default value alpha=1.0.\n",
            "  warnings.warn(\"Negative binomial dispersion parameter alpha not \"\n"
          ]
        }
      ]
    },
    {
      "cell_type": "code",
      "source": [
        "#Sin semaforos\n",
        "\n",
        "# Crea un DataFrame con tus datos (ajusta los valores a los tuyos)\n",
        "data = pd.DataFrame({\n",
        "    \"Choques\": [123],  # Choques observados en tu análisis\n",
        "    \"TPDA\": [6600],  # Tráfico promedio diario anual\n",
        "    \"num_carriles\": [8],  # Número total de carriles\n",
        "    \"Y\": [5],  # Número total de intersecciones\n",
        "    \"cruz\": [3],\n",
        "    \"glorieta\": [1],\n",
        "    \"ramas_mult\": [0],\n",
        "    \"recta\": [2],\n",
        "    \"T\": [14],\n",
        "    \"Longitud\": [2.95]  # Longitud total de la calzada (km)\n",
        "})\n",
        "\n",
        "# Ajustar el modelo binomial negativo\n",
        "modelo = smf.glm(\n",
        "    \"Choques ~ np.log(TPDA) + num_carriles + Y + cruz + glorieta + ramas_mult + recta + T + np.log(Longitud)\",\n",
        "    data=data,\n",
        "    family=sm.families.NegativeBinomial()\n",
        ").fit()\n",
        "\n",
        "# Resumen del modelo\n",
        "print(modelo.summary())\n"
      ],
      "metadata": {
        "colab": {
          "base_uri": "https://localhost:8080/"
        },
        "outputId": "4c7151b1-09cb-4a82-96de-b469c0faca15",
        "id": "uPRUt3vYjuRP"
      },
      "execution_count": 15,
      "outputs": [
        {
          "output_type": "stream",
          "name": "stdout",
          "text": [
            "                 Generalized Linear Model Regression Results                  \n",
            "==============================================================================\n",
            "Dep. Variable:                Choques   No. Observations:                    1\n",
            "Model:                            GLM   Df Residuals:                        0\n",
            "Model Family:        NegativeBinomial   Df Model:                            0\n",
            "Link Function:                    Log   Scale:                          1.0000\n",
            "Method:                          IRLS   Log-Likelihood:                -5.8162\n",
            "Date:                Tue, 19 Nov 2024   Deviance:                  -7.9936e-15\n",
            "Time:                        03:56:26   Pearson chi2:                 1.53e-29\n",
            "No. Iterations:                     1   Pseudo R-squ. (CS):          2.274e-13\n",
            "Covariance Type:            nonrobust                                         \n",
            "====================================================================================\n",
            "                       coef    std err          z      P>|z|      [0.025      0.975]\n",
            "------------------------------------------------------------------------------------\n",
            "Intercept            0.0127      0.003      4.793      0.000       0.008       0.018\n",
            "np.log(TPDA)         0.1118      0.023      4.793      0.000       0.066       0.158\n",
            "num_carriles         0.1017      0.021      4.793      0.000       0.060       0.143\n",
            "Y                    0.0636      0.013      4.793      0.000       0.038       0.090\n",
            "cruz                 0.0381      0.008      4.793      0.000       0.023       0.054\n",
            "glorieta             0.0127      0.003      4.793      0.000       0.008       0.018\n",
            "ramas_mult                0          0        nan        nan           0           0\n",
            "recta                0.0254      0.005      4.793      0.000       0.015       0.036\n",
            "T                    0.1780      0.037      4.793      0.000       0.105       0.251\n",
            "np.log(Longitud)     0.0138      0.003      4.793      0.000       0.008       0.019\n",
            "====================================================================================\n"
          ]
        },
        {
          "output_type": "stream",
          "name": "stderr",
          "text": [
            "/usr/local/lib/python3.10/dist-packages/statsmodels/genmod/families/family.py:1367: ValueWarning: Negative binomial dispersion parameter alpha not set. Using default value alpha=1.0.\n",
            "  warnings.warn(\"Negative binomial dispersion parameter alpha not \"\n"
          ]
        }
      ]
    }
  ]
}