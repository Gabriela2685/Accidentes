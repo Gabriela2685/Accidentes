{
  "nbformat": 4,
  "nbformat_minor": 0,
  "metadata": {
    "colab": {
      "provenance": [],
      "authorship_tag": "ABX9TyNCV6NhjQCbU6puiaXVYNod",
      "include_colab_link": true
    },
    "kernelspec": {
      "name": "python3",
      "display_name": "Python 3"
    },
    "language_info": {
      "name": "python"
    }
  },
  "cells": [
    {
      "cell_type": "markdown",
      "metadata": {
        "id": "view-in-github",
        "colab_type": "text"
      },
      "source": [
        "<a href=\"https://colab.research.google.com/github/Gabriela2685/Accidentes/blob/main/Practica_Sololearn.ipynb\" target=\"_parent\"><img src=\"https://colab.research.google.com/assets/colab-badge.svg\" alt=\"Open In Colab\"/></a>"
      ]
    },
    {
      "cell_type": "markdown",
      "source": [
        "#Segmentación"
      ],
      "metadata": {
        "id": "57nLVt2gLGm-"
      }
    },
    {
      "cell_type": "code",
      "execution_count": 2,
      "metadata": {
        "colab": {
          "base_uri": "https://localhost:8080/"
        },
        "id": "ShyELaccHsAN",
        "outputId": "c5cba8d0-014b-492d-d8ad-f9796099fc0e"
      },
      "outputs": [
        {
          "output_type": "stream",
          "name": "stdout",
          "text": [
            "['dog', 'pig', 'cow']\n"
          ]
        }
      ],
      "source": [
        "animals=['cat','dog','pig','cow']\n",
        "print(animals[1:4]) #El 1 es inclusivo y el 4 exclusivo"
      ]
    },
    {
      "cell_type": "code",
      "source": [
        "cart=['lamp','candles','chair','carpet']\n",
        "print(cart[:3]) #De la rebanada 3 hacia atras"
      ],
      "metadata": {
        "colab": {
          "base_uri": "https://localhost:8080/"
        },
        "id": "wV4Q5ZAULFYh",
        "outputId": "0ea5e9b6-857f-40d2-968d-6b07213ecdb2"
      },
      "execution_count": 3,
      "outputs": [
        {
          "output_type": "stream",
          "name": "stdout",
          "text": [
            "['lamp', 'candles', 'chair']\n"
          ]
        }
      ]
    },
    {
      "cell_type": "code",
      "source": [
        "print(cart[1:]) #De la rebanada 1 hacia adelante"
      ],
      "metadata": {
        "colab": {
          "base_uri": "https://localhost:8080/"
        },
        "id": "ophh6m5ZMImU",
        "outputId": "4aa93ce7-b098-464b-f9ab-af521ceebed5"
      },
      "execution_count": 6,
      "outputs": [
        {
          "output_type": "stream",
          "name": "stdout",
          "text": [
            "['candles', 'chair', 'carpet']\n"
          ]
        }
      ]
    },
    {
      "cell_type": "code",
      "source": [
        "vehicle='motorbike'\n",
        "print(vehicle[:5])"
      ],
      "metadata": {
        "colab": {
          "base_uri": "https://localhost:8080/"
        },
        "id": "7bh6NQdxLleI",
        "outputId": "246351e7-93ed-484f-9877-6e301b90deff"
      },
      "execution_count": 5,
      "outputs": [
        {
          "output_type": "stream",
          "name": "stdout",
          "text": [
            "motor\n"
          ]
        }
      ]
    },
    {
      "cell_type": "code",
      "source": [
        "print(vehicle[:])"
      ],
      "metadata": {
        "colab": {
          "base_uri": "https://localhost:8080/"
        },
        "id": "ocdBW2yAMwT2",
        "outputId": "56abaf7c-65c1-431b-cadf-0a2bd19d1236"
      },
      "execution_count": 7,
      "outputs": [
        {
          "output_type": "stream",
          "name": "stdout",
          "text": [
            "motorbike\n"
          ]
        }
      ]
    }
  ]
}