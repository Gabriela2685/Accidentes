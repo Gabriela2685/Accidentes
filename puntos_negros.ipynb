{
  "nbformat": 4,
  "nbformat_minor": 0,
  "metadata": {
    "colab": {
      "provenance": [],
      "authorship_tag": "ABX9TyOW6UnGVlzHQ6vJh0DbColc",
      "include_colab_link": true
    },
    "kernelspec": {
      "name": "python3",
      "display_name": "Python 3"
    },
    "language_info": {
      "name": "python"
    }
  },
  "cells": [
    {
      "cell_type": "markdown",
      "metadata": {
        "id": "view-in-github",
        "colab_type": "text"
      },
      "source": [
        "<a href=\"https://colab.research.google.com/github/Gabriela2685/Accidentes/blob/main/puntos_negros.ipynb\" target=\"_parent\"><img src=\"https://colab.research.google.com/assets/colab-badge.svg\" alt=\"Open In Colab\"/></a>"
      ]
    },
    {
      "cell_type": "code",
      "source": [
        "# Importar las librerías necesarias\n",
        "import pandas as pd\n",
        "from sklearn.cluster import MiniBatchKMeans\n",
        "from geopy.distance import great_circle\n",
        "from shapely.geometry import MultiPoint\n",
        "import folium\n",
        "import gc"
      ],
      "metadata": {
        "id": "_uxNBcL2v83v"
      },
      "execution_count": null,
      "outputs": []
    },
    {
      "cell_type": "code",
      "source": [
        "data = pd.read_csv(\"https://docs.google.com/spreadsheets/d/e/2PACX-1vQGVuLESo9dj1QzZuPoqvsQBvGT3-NIjLA34Mus7Q6yPAxvQpRbWhjsuUJoAUEThw/pub?output=csv\")"
      ],
      "metadata": {
        "id": "hK24A8OKv8mg",
        "colab": {
          "base_uri": "https://localhost:8080/"
        },
        "outputId": "6a1a5f6b-f07a-4cec-e230-0a9b53ed62d8"
      },
      "execution_count": null,
      "outputs": [
        {
          "output_type": "stream",
          "name": "stderr",
          "text": [
            "<ipython-input-39-7b8b6effae17>:1: DtypeWarning: Columns (1) have mixed types. Specify dtype option on import or set low_memory=False.\n",
            "  data = pd.read_csv(\"https://docs.google.com/spreadsheets/d/e/2PACX-1vQGVuLESo9dj1QzZuPoqvsQBvGT3-NIjLA34Mus7Q6yPAxvQpRbWhjsuUJoAUEThw/pub?output=csv\")\n"
          ]
        }
      ]
    },
    {
      "cell_type": "code",
      "source": [
        "# Imprimir el número de filas\n",
        "print(f\"Número de filas: {len(data)}\")"
      ],
      "metadata": {
        "colab": {
          "base_uri": "https://localhost:8080/"
        },
        "id": "0IB2CdZNxjqN",
        "outputId": "880eb5b1-ad40-4995-d452-b82466f99c4f"
      },
      "execution_count": null,
      "outputs": [
        {
          "output_type": "stream",
          "name": "stdout",
          "text": [
            "Número de filas: 67366\n"
          ]
        }
      ]
    },
    {
      "cell_type": "code",
      "source": [
        "# Eliminar filas con valores NaN en latitud y longitud\n",
        "data = data.dropna(subset=['latitud', 'longitud'])\n",
        "\n",
        "# Tomar una muestra de 10,000 filas para reducir el consumo de memoria\n",
        "data_sample = data.sample(n=20000, random_state=42)\n",
        "\n",
        "# Crear un array con las coordenadas de la muestra\n",
        "coordinates = data_sample[['latitud', 'longitud']].to_numpy()\n",
        "\n",
        "# Configurar y aplicar el modelo MiniBatchKMeans para clústeres\n",
        "num_clusters = 50  # Define el número de clústeres\n",
        "kmeans = MiniBatchKMeans(n_clusters=num_clusters, batch_size=10000, random_state=42)\n",
        "data_sample['cluster'] = kmeans.fit_predict(coordinates)\n",
        "\n",
        "# Liberar memoria no utilizada\n",
        "gc.collect()\n",
        "\n",
        "# Visualizar el número de clústeres encontrados\n",
        "print(f\"Número de clústeres especificados: {num_clusters}\")\n",
        "\n",
        "# Calcular el centro de cada clúster\n",
        "from shapely.geometry import MultiPoint\n",
        "centroids = []\n",
        "for cluster_num in range(num_clusters):\n",
        "    cluster_points = coordinates[data_sample['cluster'] == cluster_num]\n",
        "    cluster_center = MultiPoint(cluster_points).centroid\n",
        "    centroids.append(cluster_center)\n",
        "\n",
        "print(\"Centroides de los clústeres:\", centroids)\n",
        "\n",
        "# Crear un mapa centrado en la Ciudad de México\n",
        "mapa = folium.Map(location=[19.4326, -99.1332], zoom_start=12)\n",
        "\n",
        "# Agregar los puntos de accidentes al mapa\n",
        "for i, row in data_sample.iterrows():\n",
        "    folium.CircleMarker(\n",
        "        location=(row['latitud'], row['longitud']),\n",
        "        radius=5, color='blue', fill=True, fill_color='blue'\n",
        "    ).add_to(mapa)\n",
        "\n",
        "# Agregar los centroides al mapa (puntos rojos)\n",
        "for centroide in kmeans.cluster_centers_:\n",
        "    latitud, longitud = centroide  # Extraer las coordenadas del centroide\n",
        "    folium.CircleMarker(\n",
        "        location=(latitud, longitud),  # latitud, longitud del centroide\n",
        "        radius=7, color='red', fill=True, fill_color='red'\n",
        "    ).add_to(mapa)\n",
        "\n",
        "# Guardar o mostrar el mapa\n",
        "mapa.save(\"mapa_accidentes3.html\")"
      ],
      "metadata": {
        "colab": {
          "base_uri": "https://localhost:8080/"
        },
        "outputId": "fb290685-a20e-43a5-fb68-2097e894981e",
        "id": "dSGlZGERwzX0"
      },
      "execution_count": null,
      "outputs": [
        {
          "output_type": "stream",
          "name": "stdout",
          "text": [
            "Número de clústeres especificados: 50\n",
            "Centroides de los clústeres: [<POINT (19.37 -99.171)>, <POINT (19.425 -99.15)>, <POINT (19.448 -99.099)>, <POINT (19.286 -99.122)>, <POINT (19.366 -99.024)>, <POINT (19.441 -99.172)>, <POINT (19.376 -99.244)>, <POINT (19.413 -99.085)>, <POINT (19.277 -99.006)>, <POINT (19.533 -99.15)>, <POINT (19.302 -99.215)>, <POINT (19.387 -99.141)>, <POINT (19.479 -99.193)>, <POINT (19.316 -99.076)>, <POINT (19.467 -99.151)>, <POINT (19.372 -99.11)>, <POINT (19.251 -99.098)>, <POINT (19.294 -99.168)>, <POINT (19.394 -99.187)>, <POINT (19.331 -99.111)>, <POINT (19.407 -99.168)>, <POINT (19.488 -99.087)>, <POINT (19.432 -99.119)>, <POINT (19.205 -98.987)>, <POINT (19.321 -99.325)>, <POINT (-19.327 -99.114)>, <POINT (19.338 -99.17)>, <POINT (19.472 -99.117)>, <POINT (19.338 -99.042)>, <POINT (19.356 -99.143)>, <POINT (19.322 -99.248)>, <POINT (19.432 -99.206)>, <POINT (19.411 -99.131)>, <POINT (19.455 -99.068)>, <POINT (19.389 -99.05)>, <POINT (19.354 -99.068)>, <POINT (19.378 -99.207)>, <POINT (19.319 -99.145)>, <POINT (19.349 -98.996)>, <POINT (19.276 -99.228)>, <POINT (19.199 -99.046)>, <POINT (19.45 -99.135)>, <POINT (19.184 -99.157)>, <POINT (19.296 -99.047)>, <POINT (19.254 -99.171)>, <POINT (19.357 -99.284)>, <POINT (19.384 -99.077)>, <POINT (19.498 -99.127)>, <POINT (19.343 -99.204)>, <POINT (19.498 -99.158)>]\n"
          ]
        }
      ]
    },
    {
      "cell_type": "markdown",
      "source": [
        "2021"
      ],
      "metadata": {
        "id": "h-B5xQmY5D37"
      }
    },
    {
      "cell_type": "code",
      "source": [
        "data_2021 = pd.read_csv(\"https://docs.google.com/spreadsheets/d/e/2PACX-1vTY6__uLsrWfMiyhhrbsYySjWeeX_Vk1yD9glm8sp4qRFxjLDBKJiBGzCbwME9jFQ/pub?output=csv\")"
      ],
      "metadata": {
        "id": "uT4Cb9EU5C62"
      },
      "execution_count": null,
      "outputs": []
    },
    {
      "cell_type": "code",
      "source": [
        "# Eliminar filas con valores NaN en latitud y longitud\n",
        "data_2023 = data_2021.dropna(subset=['latitud', 'longitud'])\n",
        "\n",
        "\n",
        "# Crear un array con las coordenadas de la muestra\n",
        "coordinates = data_2021[['latitud', 'longitud']].to_numpy()\n",
        "\n",
        "# Configurar y aplicar el modelo MiniBatchKMeans para clústeres\n",
        "num_clusters = 50  # Define el número de clústeres\n",
        "kmeans = MiniBatchKMeans(n_clusters=num_clusters, batch_size=10000, random_state=42)\n",
        "data_2021['cluster'] = kmeans.fit_predict(coordinates)\n",
        "\n",
        "# Liberar memoria no utilizada\n",
        "gc.collect()\n",
        "\n",
        "# Visualizar el número de clústeres encontrados\n",
        "print(f\"Número de clústeres especificados: {num_clusters}\")\n",
        "\n",
        "# Calcular el centro de cada clúster\n",
        "from shapely.geometry import MultiPoint\n",
        "centroids_2021 = []\n",
        "for cluster_num in range(num_clusters):\n",
        "    cluster_points = coordinates[data_2021['cluster'] == cluster_num]\n",
        "    cluster_center = MultiPoint(cluster_points).centroid\n",
        "    centroids_2021.append(cluster_center)\n",
        "\n",
        "print(\"Centroides de los clústeres:\", centroids_2021)\n",
        "\n",
        "# Crear un mapa centrado en la Ciudad de México\n",
        "mapa = folium.Map(location=[19.4326, -99.1332], zoom_start=12)\n",
        "\n",
        "# Agregar los puntos de accidentes al mapa\n",
        "for i, row in data_2023.iterrows():\n",
        "    folium.CircleMarker(\n",
        "        location=(row['latitud'], row['longitud']),\n",
        "        radius=5, color='blue', fill=True, fill_color='blue'\n",
        "    ).add_to(mapa)\n",
        "\n",
        "# Agregar los centroides al mapa (puntos rojos)\n",
        "for centroide in kmeans.cluster_centers_:\n",
        "    latitud, longitud = centroide  # Extraer las coordenadas del centroide\n",
        "    folium.CircleMarker(\n",
        "        location=(latitud, longitud),  # latitud, longitud del centroide\n",
        "        radius=7, color='red', fill=True, fill_color='red'\n",
        "    ).add_to(mapa)\n",
        "\n",
        "# Guardar o mostrar el mapa\n",
        "mapa.save(\"mapa_accidentes_2021.html\")"
      ],
      "metadata": {
        "colab": {
          "base_uri": "https://localhost:8080/",
          "height": 426
        },
        "outputId": "8646d11a-aa88-4f40-d86e-520a234211da",
        "id": "PM91X_EEUI4U"
      },
      "execution_count": null,
      "outputs": [
        {
          "output_type": "error",
          "ename": "ValueError",
          "evalue": "Input X contains NaN.\nMiniBatchKMeans does not accept missing values encoded as NaN natively. For supervised learning, you might want to consider sklearn.ensemble.HistGradientBoostingClassifier and Regressor which accept missing values encoded as NaNs natively. Alternatively, it is possible to preprocess the data, for instance by using an imputer transformer in a pipeline or drop samples with missing values. See https://scikit-learn.org/stable/modules/impute.html You can find a list of all estimators that handle NaN values at the following page: https://scikit-learn.org/stable/modules/impute.html#estimators-that-handle-nan-values",
          "traceback": [
            "\u001b[0;31m---------------------------------------------------------------------------\u001b[0m",
            "\u001b[0;31mValueError\u001b[0m                                Traceback (most recent call last)",
            "\u001b[0;32m<ipython-input-43-47f40782711f>\u001b[0m in \u001b[0;36m<cell line: 11>\u001b[0;34m()\u001b[0m\n\u001b[1;32m      9\u001b[0m \u001b[0mnum_clusters\u001b[0m \u001b[0;34m=\u001b[0m \u001b[0;36m50\u001b[0m  \u001b[0;31m# Define el número de clústeres\u001b[0m\u001b[0;34m\u001b[0m\u001b[0;34m\u001b[0m\u001b[0m\n\u001b[1;32m     10\u001b[0m \u001b[0mkmeans\u001b[0m \u001b[0;34m=\u001b[0m \u001b[0mMiniBatchKMeans\u001b[0m\u001b[0;34m(\u001b[0m\u001b[0mn_clusters\u001b[0m\u001b[0;34m=\u001b[0m\u001b[0mnum_clusters\u001b[0m\u001b[0;34m,\u001b[0m \u001b[0mbatch_size\u001b[0m\u001b[0;34m=\u001b[0m\u001b[0;36m10000\u001b[0m\u001b[0;34m,\u001b[0m \u001b[0mrandom_state\u001b[0m\u001b[0;34m=\u001b[0m\u001b[0;36m42\u001b[0m\u001b[0;34m)\u001b[0m\u001b[0;34m\u001b[0m\u001b[0;34m\u001b[0m\u001b[0m\n\u001b[0;32m---> 11\u001b[0;31m \u001b[0mdata_2021\u001b[0m\u001b[0;34m[\u001b[0m\u001b[0;34m'cluster'\u001b[0m\u001b[0;34m]\u001b[0m \u001b[0;34m=\u001b[0m \u001b[0mkmeans\u001b[0m\u001b[0;34m.\u001b[0m\u001b[0mfit_predict\u001b[0m\u001b[0;34m(\u001b[0m\u001b[0mcoordinates\u001b[0m\u001b[0;34m)\u001b[0m\u001b[0;34m\u001b[0m\u001b[0;34m\u001b[0m\u001b[0m\n\u001b[0m\u001b[1;32m     12\u001b[0m \u001b[0;34m\u001b[0m\u001b[0m\n\u001b[1;32m     13\u001b[0m \u001b[0;31m# Liberar memoria no utilizada\u001b[0m\u001b[0;34m\u001b[0m\u001b[0;34m\u001b[0m\u001b[0m\n",
            "\u001b[0;32m/usr/local/lib/python3.10/dist-packages/sklearn/cluster/_kmeans.py\u001b[0m in \u001b[0;36mfit_predict\u001b[0;34m(self, X, y, sample_weight)\u001b[0m\n\u001b[1;32m   1068\u001b[0m             \u001b[0mIndex\u001b[0m \u001b[0mof\u001b[0m \u001b[0mthe\u001b[0m \u001b[0mcluster\u001b[0m \u001b[0meach\u001b[0m \u001b[0msample\u001b[0m \u001b[0mbelongs\u001b[0m \u001b[0mto\u001b[0m\u001b[0;34m.\u001b[0m\u001b[0;34m\u001b[0m\u001b[0;34m\u001b[0m\u001b[0m\n\u001b[1;32m   1069\u001b[0m         \"\"\"\n\u001b[0;32m-> 1070\u001b[0;31m         \u001b[0;32mreturn\u001b[0m \u001b[0mself\u001b[0m\u001b[0;34m.\u001b[0m\u001b[0mfit\u001b[0m\u001b[0;34m(\u001b[0m\u001b[0mX\u001b[0m\u001b[0;34m,\u001b[0m \u001b[0msample_weight\u001b[0m\u001b[0;34m=\u001b[0m\u001b[0msample_weight\u001b[0m\u001b[0;34m)\u001b[0m\u001b[0;34m.\u001b[0m\u001b[0mlabels_\u001b[0m\u001b[0;34m\u001b[0m\u001b[0;34m\u001b[0m\u001b[0m\n\u001b[0m\u001b[1;32m   1071\u001b[0m \u001b[0;34m\u001b[0m\u001b[0m\n\u001b[1;32m   1072\u001b[0m     \u001b[0;32mdef\u001b[0m \u001b[0mpredict\u001b[0m\u001b[0;34m(\u001b[0m\u001b[0mself\u001b[0m\u001b[0;34m,\u001b[0m \u001b[0mX\u001b[0m\u001b[0;34m)\u001b[0m\u001b[0;34m:\u001b[0m\u001b[0;34m\u001b[0m\u001b[0;34m\u001b[0m\u001b[0m\n",
            "\u001b[0;32m/usr/local/lib/python3.10/dist-packages/sklearn/base.py\u001b[0m in \u001b[0;36mwrapper\u001b[0;34m(estimator, *args, **kwargs)\u001b[0m\n\u001b[1;32m   1471\u001b[0m                 )\n\u001b[1;32m   1472\u001b[0m             ):\n\u001b[0;32m-> 1473\u001b[0;31m                 \u001b[0;32mreturn\u001b[0m \u001b[0mfit_method\u001b[0m\u001b[0;34m(\u001b[0m\u001b[0mestimator\u001b[0m\u001b[0;34m,\u001b[0m \u001b[0;34m*\u001b[0m\u001b[0margs\u001b[0m\u001b[0;34m,\u001b[0m \u001b[0;34m**\u001b[0m\u001b[0mkwargs\u001b[0m\u001b[0;34m)\u001b[0m\u001b[0;34m\u001b[0m\u001b[0;34m\u001b[0m\u001b[0m\n\u001b[0m\u001b[1;32m   1474\u001b[0m \u001b[0;34m\u001b[0m\u001b[0m\n\u001b[1;32m   1475\u001b[0m         \u001b[0;32mreturn\u001b[0m \u001b[0mwrapper\u001b[0m\u001b[0;34m\u001b[0m\u001b[0;34m\u001b[0m\u001b[0m\n",
            "\u001b[0;32m/usr/local/lib/python3.10/dist-packages/sklearn/cluster/_kmeans.py\u001b[0m in \u001b[0;36mfit\u001b[0;34m(self, X, y, sample_weight)\u001b[0m\n\u001b[1;32m   2071\u001b[0m             \u001b[0mFitted\u001b[0m \u001b[0mestimator\u001b[0m\u001b[0;34m.\u001b[0m\u001b[0;34m\u001b[0m\u001b[0;34m\u001b[0m\u001b[0m\n\u001b[1;32m   2072\u001b[0m         \"\"\"\n\u001b[0;32m-> 2073\u001b[0;31m         X = self._validate_data(\n\u001b[0m\u001b[1;32m   2074\u001b[0m             \u001b[0mX\u001b[0m\u001b[0;34m,\u001b[0m\u001b[0;34m\u001b[0m\u001b[0;34m\u001b[0m\u001b[0m\n\u001b[1;32m   2075\u001b[0m             \u001b[0maccept_sparse\u001b[0m\u001b[0;34m=\u001b[0m\u001b[0;34m\"csr\"\u001b[0m\u001b[0;34m,\u001b[0m\u001b[0;34m\u001b[0m\u001b[0;34m\u001b[0m\u001b[0m\n",
            "\u001b[0;32m/usr/local/lib/python3.10/dist-packages/sklearn/base.py\u001b[0m in \u001b[0;36m_validate_data\u001b[0;34m(self, X, y, reset, validate_separately, cast_to_ndarray, **check_params)\u001b[0m\n\u001b[1;32m    631\u001b[0m                 \u001b[0mout\u001b[0m \u001b[0;34m=\u001b[0m \u001b[0mX\u001b[0m\u001b[0;34m,\u001b[0m \u001b[0my\u001b[0m\u001b[0;34m\u001b[0m\u001b[0;34m\u001b[0m\u001b[0m\n\u001b[1;32m    632\u001b[0m         \u001b[0;32melif\u001b[0m \u001b[0;32mnot\u001b[0m \u001b[0mno_val_X\u001b[0m \u001b[0;32mand\u001b[0m \u001b[0mno_val_y\u001b[0m\u001b[0;34m:\u001b[0m\u001b[0;34m\u001b[0m\u001b[0;34m\u001b[0m\u001b[0m\n\u001b[0;32m--> 633\u001b[0;31m             \u001b[0mout\u001b[0m \u001b[0;34m=\u001b[0m \u001b[0mcheck_array\u001b[0m\u001b[0;34m(\u001b[0m\u001b[0mX\u001b[0m\u001b[0;34m,\u001b[0m \u001b[0minput_name\u001b[0m\u001b[0;34m=\u001b[0m\u001b[0;34m\"X\"\u001b[0m\u001b[0;34m,\u001b[0m \u001b[0;34m**\u001b[0m\u001b[0mcheck_params\u001b[0m\u001b[0;34m)\u001b[0m\u001b[0;34m\u001b[0m\u001b[0;34m\u001b[0m\u001b[0m\n\u001b[0m\u001b[1;32m    634\u001b[0m         \u001b[0;32melif\u001b[0m \u001b[0mno_val_X\u001b[0m \u001b[0;32mand\u001b[0m \u001b[0;32mnot\u001b[0m \u001b[0mno_val_y\u001b[0m\u001b[0;34m:\u001b[0m\u001b[0;34m\u001b[0m\u001b[0;34m\u001b[0m\u001b[0m\n\u001b[1;32m    635\u001b[0m             \u001b[0mout\u001b[0m \u001b[0;34m=\u001b[0m \u001b[0m_check_y\u001b[0m\u001b[0;34m(\u001b[0m\u001b[0my\u001b[0m\u001b[0;34m,\u001b[0m \u001b[0;34m**\u001b[0m\u001b[0mcheck_params\u001b[0m\u001b[0;34m)\u001b[0m\u001b[0;34m\u001b[0m\u001b[0;34m\u001b[0m\u001b[0m\n",
            "\u001b[0;32m/usr/local/lib/python3.10/dist-packages/sklearn/utils/validation.py\u001b[0m in \u001b[0;36mcheck_array\u001b[0;34m(array, accept_sparse, accept_large_sparse, dtype, order, copy, force_writeable, force_all_finite, ensure_2d, allow_nd, ensure_min_samples, ensure_min_features, estimator, input_name)\u001b[0m\n\u001b[1;32m   1062\u001b[0m \u001b[0;34m\u001b[0m\u001b[0m\n\u001b[1;32m   1063\u001b[0m         \u001b[0;32mif\u001b[0m \u001b[0mforce_all_finite\u001b[0m\u001b[0;34m:\u001b[0m\u001b[0;34m\u001b[0m\u001b[0;34m\u001b[0m\u001b[0m\n\u001b[0;32m-> 1064\u001b[0;31m             _assert_all_finite(\n\u001b[0m\u001b[1;32m   1065\u001b[0m                 \u001b[0marray\u001b[0m\u001b[0;34m,\u001b[0m\u001b[0;34m\u001b[0m\u001b[0;34m\u001b[0m\u001b[0m\n\u001b[1;32m   1066\u001b[0m                 \u001b[0minput_name\u001b[0m\u001b[0;34m=\u001b[0m\u001b[0minput_name\u001b[0m\u001b[0;34m,\u001b[0m\u001b[0;34m\u001b[0m\u001b[0;34m\u001b[0m\u001b[0m\n",
            "\u001b[0;32m/usr/local/lib/python3.10/dist-packages/sklearn/utils/validation.py\u001b[0m in \u001b[0;36m_assert_all_finite\u001b[0;34m(X, allow_nan, msg_dtype, estimator_name, input_name)\u001b[0m\n\u001b[1;32m    121\u001b[0m         \u001b[0;32mreturn\u001b[0m\u001b[0;34m\u001b[0m\u001b[0;34m\u001b[0m\u001b[0m\n\u001b[1;32m    122\u001b[0m \u001b[0;34m\u001b[0m\u001b[0m\n\u001b[0;32m--> 123\u001b[0;31m     _assert_all_finite_element_wise(\n\u001b[0m\u001b[1;32m    124\u001b[0m         \u001b[0mX\u001b[0m\u001b[0;34m,\u001b[0m\u001b[0;34m\u001b[0m\u001b[0;34m\u001b[0m\u001b[0m\n\u001b[1;32m    125\u001b[0m         \u001b[0mxp\u001b[0m\u001b[0;34m=\u001b[0m\u001b[0mxp\u001b[0m\u001b[0;34m,\u001b[0m\u001b[0;34m\u001b[0m\u001b[0;34m\u001b[0m\u001b[0m\n",
            "\u001b[0;32m/usr/local/lib/python3.10/dist-packages/sklearn/utils/validation.py\u001b[0m in \u001b[0;36m_assert_all_finite_element_wise\u001b[0;34m(X, xp, allow_nan, msg_dtype, estimator_name, input_name)\u001b[0m\n\u001b[1;32m    170\u001b[0m                 \u001b[0;34m\"#estimators-that-handle-nan-values\"\u001b[0m\u001b[0;34m\u001b[0m\u001b[0;34m\u001b[0m\u001b[0m\n\u001b[1;32m    171\u001b[0m             )\n\u001b[0;32m--> 172\u001b[0;31m         \u001b[0;32mraise\u001b[0m \u001b[0mValueError\u001b[0m\u001b[0;34m(\u001b[0m\u001b[0mmsg_err\u001b[0m\u001b[0;34m)\u001b[0m\u001b[0;34m\u001b[0m\u001b[0;34m\u001b[0m\u001b[0m\n\u001b[0m\u001b[1;32m    173\u001b[0m \u001b[0;34m\u001b[0m\u001b[0m\n\u001b[1;32m    174\u001b[0m \u001b[0;34m\u001b[0m\u001b[0m\n",
            "\u001b[0;31mValueError\u001b[0m: Input X contains NaN.\nMiniBatchKMeans does not accept missing values encoded as NaN natively. For supervised learning, you might want to consider sklearn.ensemble.HistGradientBoostingClassifier and Regressor which accept missing values encoded as NaNs natively. Alternatively, it is possible to preprocess the data, for instance by using an imputer transformer in a pipeline or drop samples with missing values. See https://scikit-learn.org/stable/modules/impute.html You can find a list of all estimators that handle NaN values at the following page: https://scikit-learn.org/stable/modules/impute.html#estimators-that-handle-nan-values"
          ]
        }
      ]
    },
    {
      "cell_type": "markdown",
      "source": [
        "2022"
      ],
      "metadata": {
        "id": "FKAwkXrM5SJD"
      }
    },
    {
      "cell_type": "code",
      "source": [
        "data_2022 = pd.read_csv(\"https://docs.google.com/spreadsheets/d/e/2PACX-1vScMsJsRVAVimIXPs2K3ck_A7D4mkWxqf9AAuSm_D4ypETbAqsYsunccD-C2WySkg/pub?output=csv\")"
      ],
      "metadata": {
        "id": "ygvE44Ld5UCr"
      },
      "execution_count": null,
      "outputs": []
    },
    {
      "cell_type": "code",
      "source": [
        "# Eliminar filas con valores NaN en latitud y longitud\n",
        "data_2022 = data_2022.dropna(subset=['latitud', 'longitud'])\n",
        "\n",
        "\n",
        "# Crear un array con las coordenadas de la muestra\n",
        "coordinates = data_2022[['latitud', 'longitud']].to_numpy()\n",
        "\n",
        "# Configurar y aplicar el modelo MiniBatchKMeans para clústeres\n",
        "num_clusters = 50  # Define el número de clústeres\n",
        "kmeans = MiniBatchKMeans(n_clusters=num_clusters, batch_size=10000, random_state=42)\n",
        "data_2022['cluster'] = kmeans.fit_predict(coordinates)\n",
        "\n",
        "# Liberar memoria no utilizada\n",
        "gc.collect()\n",
        "\n",
        "# Visualizar el número de clústeres encontrados\n",
        "print(f\"Número de clústeres especificados: {num_clusters}\")\n",
        "\n",
        "# Calcular el centro de cada clúster\n",
        "from shapely.geometry import MultiPoint\n",
        "centroids_2022 = []\n",
        "for cluster_num in range(num_clusters):\n",
        "    cluster_points = coordinates[data_2022['cluster'] == cluster_num]\n",
        "    cluster_center = MultiPoint(cluster_points).centroid\n",
        "    centroids_2022.append(cluster_center)\n",
        "\n",
        "print(\"Centroides de los clústeres:\", centroids_2022)\n",
        "\n",
        "# Crear un mapa centrado en la Ciudad de México\n",
        "mapa = folium.Map(location=[19.4326, -99.1332], zoom_start=12)\n",
        "\n",
        "# Agregar los puntos de accidentes al mapa\n",
        "for i, row in data_2022.iterrows():\n",
        "    folium.CircleMarker(\n",
        "        location=(row['latitud'], row['longitud']),\n",
        "        radius=5, color='blue', fill=True, fill_color='blue'\n",
        "    ).add_to(mapa)\n",
        "\n",
        "# Agregar los centroides al mapa (puntos rojos)\n",
        "for centroide in kmeans.cluster_centers_:\n",
        "    latitud, longitud = centroide  # Extraer las coordenadas del centroide\n",
        "    folium.CircleMarker(\n",
        "        location=(latitud, longitud),  # latitud, longitud del centroide\n",
        "        radius=7, color='red', fill=True, fill_color='red'\n",
        "    ).add_to(mapa)\n",
        "\n",
        "# Guardar o mostrar el mapa\n",
        "mapa.save(\"mapa_accidentes_2022.html\")"
      ],
      "metadata": {
        "id": "sEz3tHq37AMA"
      },
      "execution_count": null,
      "outputs": []
    },
    {
      "cell_type": "markdown",
      "source": [
        "2023"
      ],
      "metadata": {
        "id": "UjzhKFck5bp7"
      }
    },
    {
      "cell_type": "code",
      "source": [
        "data_2023 = pd.read_csv(\"https://docs.google.com/spreadsheets/d/e/2PACX-1vQk160vUoiooBatpS_QBj_g42Wp1GaN720cz-zw8f27sh2CbGfVk_dTzaprwSOutA/pub?output=csv\")"
      ],
      "metadata": {
        "id": "pDDJlSDI5ckj"
      },
      "execution_count": null,
      "outputs": []
    },
    {
      "cell_type": "code",
      "source": [
        "# Eliminar filas con valores NaN en latitud y longitud\n",
        "data_2023 = data_2023.dropna(subset=['latitud', 'longitud'])\n",
        "\n",
        "\n",
        "# Crear un array con las coordenadas de la muestra\n",
        "coordinates = data_2023[['latitud', 'longitud']].to_numpy()\n",
        "\n",
        "# Configurar y aplicar el modelo MiniBatchKMeans para clústeres\n",
        "num_clusters = 50  # Define el número de clústeres\n",
        "kmeans = MiniBatchKMeans(n_clusters=num_clusters, batch_size=10000, random_state=42)\n",
        "data_2023['cluster'] = kmeans.fit_predict(coordinates)\n",
        "\n",
        "# Liberar memoria no utilizada\n",
        "gc.collect()\n",
        "\n",
        "# Visualizar el número de clústeres encontrados\n",
        "print(f\"Número de clústeres especificados: {num_clusters}\")\n",
        "\n",
        "# Calcular el centro de cada clúster\n",
        "from shapely.geometry import MultiPoint\n",
        "centroids_2023 = []\n",
        "for cluster_num in range(num_clusters):\n",
        "    cluster_points = coordinates[data_2023['cluster'] == cluster_num]\n",
        "    cluster_center = MultiPoint(cluster_points).centroid\n",
        "    centroids_2023.append(cluster_center)\n",
        "\n",
        "print(\"Centroides de los clústeres:\", centroids_2023)\n",
        "\n",
        "# Crear un mapa centrado en la Ciudad de México\n",
        "mapa = folium.Map(location=[19.4326, -99.1332], zoom_start=12)\n",
        "\n",
        "# Agregar los puntos de accidentes al mapa\n",
        "for i, row in data_2023.iterrows():\n",
        "    folium.CircleMarker(\n",
        "        location=(row['latitud'], row['longitud']),\n",
        "        radius=5, color='blue', fill=True, fill_color='blue'\n",
        "    ).add_to(mapa)\n",
        "\n",
        "# Agregar los centroides al mapa (puntos rojos)\n",
        "for centroide in kmeans.cluster_centers_:\n",
        "    latitud, longitud = centroide  # Extraer las coordenadas del centroide\n",
        "    folium.CircleMarker(\n",
        "        location=(latitud, longitud),  # latitud, longitud del centroide\n",
        "        radius=7, color='red', fill=True, fill_color='red'\n",
        "    ).add_to(mapa)\n",
        "\n",
        "# Guardar o mostrar el mapa\n",
        "mapa.save(\"mapa_accidentes_2023.html\")"
      ],
      "metadata": {
        "id": "WxvqDPYv7ZgY"
      },
      "execution_count": null,
      "outputs": []
    },
    {
      "cell_type": "markdown",
      "source": [
        "Comparacion"
      ],
      "metadata": {
        "id": "9xCCEDb3Fq0l"
      }
    },
    {
      "cell_type": "code",
      "source": [
        "# Crear un mapa centrado en la Ciudad de México\n",
        "mapa = folium.Map(location=[19.4326, -99.1332], zoom_start=12)\n",
        "\n",
        "# Función para obtener los centroides de los clústeres de un año específico\n",
        "def obtener_centroides(data, num_clusters=50):\n",
        "    # Eliminar filas con valores NaN en latitud y longitud\n",
        "    data = data.dropna(subset=['latitud', 'longitud'])\n",
        "\n",
        "    # Crear un array con las coordenadas\n",
        "    coordinates = data[['latitud', 'longitud']].to_numpy()\n",
        "\n",
        "    # Configurar y aplicar el modelo MiniBatchKMeans para clústeres\n",
        "    kmeans = MiniBatchKMeans(n_clusters=num_clusters, batch_size=10000, random_state=42)\n",
        "    data['cluster'] = kmeans.fit_predict(coordinates)\n",
        "\n",
        "    # Calcular el centro de cada clúster\n",
        "    centroids = []\n",
        "    for cluster_num in range(num_clusters):\n",
        "        cluster_points = coordinates[data['cluster'] == cluster_num]\n",
        "        cluster_center = MultiPoint(cluster_points).centroid\n",
        "        centroids.append(cluster_center)\n",
        "\n",
        "    return centroids\n",
        "\n",
        "# Colores para cada año\n",
        "colores = {2021: 'pink', 2022: 'green', 2023: 'blue'}\n",
        "\n",
        "# Añadir los centroides de cada año al mapa\n",
        "for año, data in zip([2021, 2022, 2023], [data_2021, data_2022, data_2023]):\n",
        "    centroides = obtener_centroides(data)\n",
        "    color = colores[año]\n",
        "\n",
        "    # Si no se encontraron centroides, imprimir el año para depurar\n",
        "    if not centroides:\n",
        "        print(f\"No se encontraron centroides para el año {año}\")\n",
        "\n",
        "    for centroide in centroides:\n",
        "        latitud, longitud = centroide.coords[0]\n",
        "        folium.CircleMarker(\n",
        "            location=(latitud, longitud),\n",
        "            radius=7, color=color, fill=True, fill_color=color\n",
        "        ).add_to(mapa)\n",
        "\n",
        "# Guardar el mapa con los centroides para los tres años\n",
        "mapa.save(\"mapa_centroides_global.html\")\n"
      ],
      "metadata": {
        "id": "iaEr-7AwNnOY"
      },
      "execution_count": null,
      "outputs": []
    },
    {
      "cell_type": "code",
      "source": [
        "# Revisar el número de clústeres generados para 2021\n",
        "print(f\"Clústeres generados para 2021: {len(set(data_2021['cluster']))}\")\n"
      ],
      "metadata": {
        "id": "49q_KfDbTZmA"
      },
      "execution_count": null,
      "outputs": []
    },
    {
      "cell_type": "code",
      "source": [],
      "metadata": {
        "id": "yao1ke9BT-sX"
      },
      "execution_count": null,
      "outputs": []
    },
    {
      "cell_type": "code",
      "source": [
        "# Revisar el número de clústeres generados para 2021\n",
        "print(f\"Clústeres generados para 2021: {len(set(data_2023['cluster']))}\")\n"
      ],
      "metadata": {
        "id": "fZW0iU_fT_Fd"
      },
      "execution_count": null,
      "outputs": []
    }
  ]
}