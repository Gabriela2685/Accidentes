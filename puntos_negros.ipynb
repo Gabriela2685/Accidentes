{
  "nbformat": 4,
  "nbformat_minor": 0,
  "metadata": {
    "colab": {
      "provenance": [],
      "authorship_tag": "ABX9TyNkx+9Da/zUVTo4mP1fxo48",
      "include_colab_link": true
    },
    "kernelspec": {
      "name": "python3",
      "display_name": "Python 3"
    },
    "language_info": {
      "name": "python"
    }
  },
  "cells": [
    {
      "cell_type": "markdown",
      "metadata": {
        "id": "view-in-github",
        "colab_type": "text"
      },
      "source": [
        "<a href=\"https://colab.research.google.com/github/Gabriela2685/Accidentes/blob/main/puntos_negros.ipynb\" target=\"_parent\"><img src=\"https://colab.research.google.com/assets/colab-badge.svg\" alt=\"Open In Colab\"/></a>"
      ]
    },
    {
      "cell_type": "code",
      "source": [
        "# Importar las librerías necesarias\n",
        "import pandas as pd\n",
        "from sklearn.cluster import MiniBatchKMeans\n",
        "from geopy.distance import great_circle\n",
        "from shapely.geometry import MultiPoint\n",
        "import folium\n",
        "import gc"
      ],
      "metadata": {
        "id": "_uxNBcL2v83v"
      },
      "execution_count": null,
      "outputs": []
    },
    {
      "cell_type": "code",
      "source": [
        "data = pd.read_csv(\"https://docs.google.com/spreadsheets/d/e/2PACX-1vQGVuLESo9dj1QzZuPoqvsQBvGT3-NIjLA34Mus7Q6yPAxvQpRbWhjsuUJoAUEThw/pub?output=csv\")"
      ],
      "metadata": {
        "id": "hK24A8OKv8mg",
        "colab": {
          "base_uri": "https://localhost:8080/"
        },
        "outputId": "fdb87132-3222-4d5e-e7a6-5f7d670cf93a"
      },
      "execution_count": null,
      "outputs": [
        {
          "output_type": "stream",
          "name": "stderr",
          "text": [
            "<ipython-input-3-7b8b6effae17>:1: DtypeWarning: Columns (1) have mixed types. Specify dtype option on import or set low_memory=False.\n",
            "  data = pd.read_csv(\"https://docs.google.com/spreadsheets/d/e/2PACX-1vQGVuLESo9dj1QzZuPoqvsQBvGT3-NIjLA34Mus7Q6yPAxvQpRbWhjsuUJoAUEThw/pub?output=csv\")\n"
          ]
        }
      ]
    },
    {
      "cell_type": "code",
      "source": [
        "# Imprimir el número de filas\n",
        "print(f\"Número de filas: {len(data)}\")"
      ],
      "metadata": {
        "colab": {
          "base_uri": "https://localhost:8080/"
        },
        "id": "0IB2CdZNxjqN",
        "outputId": "0cc23f62-44d5-49df-aac2-680578718c56"
      },
      "execution_count": null,
      "outputs": [
        {
          "output_type": "stream",
          "name": "stdout",
          "text": [
            "Número de filas: 67366\n"
          ]
        }
      ]
    },
    {
      "cell_type": "code",
      "source": [
        "# Eliminar filas con valores NaN en latitud y longitud\n",
        "data = data.dropna(subset=['latitud', 'longitud'])\n",
        "\n",
        "# Tomar una muestra de 10,000 filas para reducir el consumo de memoria\n",
        "data_sample = data.sample(n=20000, random_state=42)\n",
        "\n",
        "# Crear un array con las coordenadas de la muestra\n",
        "coordinates = data_sample[['latitud', 'longitud']].to_numpy()\n",
        "\n",
        "# Configurar y aplicar el modelo MiniBatchKMeans para clústeres\n",
        "num_clusters = 50  # Define el número de clústeres\n",
        "kmeans = MiniBatchKMeans(n_clusters=num_clusters, batch_size=10000, random_state=42)\n",
        "data_sample['cluster'] = kmeans.fit_predict(coordinates)\n",
        "\n",
        "# Liberar memoria no utilizada\n",
        "gc.collect()\n",
        "\n",
        "# Visualizar el número de clústeres encontrados\n",
        "print(f\"Número de clústeres especificados: {num_clusters}\")\n",
        "\n",
        "# Calcular el centro de cada clúster\n",
        "from shapely.geometry import MultiPoint\n",
        "centroids = []\n",
        "for cluster_num in range(num_clusters):\n",
        "    cluster_points = coordinates[data_sample['cluster'] == cluster_num]\n",
        "    cluster_center = MultiPoint(cluster_points).centroid\n",
        "    centroids.append(cluster_center)\n",
        "\n",
        "print(\"Centroides de los clústeres:\", centroids)\n",
        "\n",
        "# Crear un mapa centrado en la Ciudad de México\n",
        "mapa = folium.Map(location=[19.4326, -99.1332], zoom_start=12)\n",
        "\n",
        "# Agregar los puntos de accidentes al mapa\n",
        "for i, row in data_sample.iterrows():\n",
        "    folium.CircleMarker(\n",
        "        location=(row['latitud'], row['longitud']),\n",
        "        radius=5, color='blue', fill=True, fill_color='blue'\n",
        "    ).add_to(mapa)\n",
        "\n",
        "# Agregar los centroides al mapa (puntos rojos)\n",
        "for centroide in kmeans.cluster_centers_:\n",
        "    latitud, longitud = centroide  # Extraer las coordenadas del centroide\n",
        "    folium.CircleMarker(\n",
        "        location=(latitud, longitud),  # latitud, longitud del centroide\n",
        "        radius=7, color='red', fill=True, fill_color='red'\n",
        "    ).add_to(mapa)\n",
        "\n",
        "# Guardar o mostrar el mapa\n",
        "mapa.save(\"mapa_accidentes.html\")"
      ],
      "metadata": {
        "colab": {
          "base_uri": "https://localhost:8080/"
        },
        "outputId": "658c3490-56ba-400e-abfd-7e7e390a5274",
        "id": "dSGlZGERwzX0"
      },
      "execution_count": null,
      "outputs": [
        {
          "output_type": "stream",
          "name": "stdout",
          "text": [
            "Número de clústeres especificados: 50\n",
            "Centroides de los clústeres: [<POINT (19.37 -99.171)>, <POINT (19.425 -99.15)>, <POINT (19.448 -99.099)>, <POINT (19.286 -99.122)>, <POINT (19.366 -99.024)>, <POINT (19.441 -99.172)>, <POINT (19.376 -99.244)>, <POINT (19.413 -99.085)>, <POINT (19.277 -99.006)>, <POINT (19.533 -99.15)>, <POINT (19.302 -99.215)>, <POINT (19.387 -99.141)>, <POINT (19.479 -99.193)>, <POINT (19.316 -99.076)>, <POINT (19.467 -99.151)>, <POINT (19.372 -99.11)>, <POINT (19.251 -99.098)>, <POINT (19.294 -99.168)>, <POINT (19.394 -99.187)>, <POINT (19.331 -99.111)>, <POINT (19.407 -99.168)>, <POINT (19.488 -99.087)>, <POINT (19.432 -99.119)>, <POINT (19.205 -98.987)>, <POINT (19.321 -99.325)>, <POINT (-19.327 -99.114)>, <POINT (19.338 -99.17)>, <POINT (19.472 -99.117)>, <POINT (19.338 -99.042)>, <POINT (19.356 -99.143)>, <POINT (19.322 -99.248)>, <POINT (19.432 -99.206)>, <POINT (19.411 -99.131)>, <POINT (19.455 -99.068)>, <POINT (19.389 -99.05)>, <POINT (19.354 -99.068)>, <POINT (19.378 -99.207)>, <POINT (19.319 -99.145)>, <POINT (19.349 -98.996)>, <POINT (19.276 -99.228)>, <POINT (19.199 -99.046)>, <POINT (19.45 -99.135)>, <POINT (19.184 -99.157)>, <POINT (19.296 -99.047)>, <POINT (19.254 -99.171)>, <POINT (19.357 -99.284)>, <POINT (19.384 -99.077)>, <POINT (19.498 -99.127)>, <POINT (19.343 -99.204)>, <POINT (19.498 -99.158)>]\n"
          ]
        }
      ]
    },
    {
      "cell_type": "markdown",
      "source": [
        "2021"
      ],
      "metadata": {
        "id": "h-B5xQmY5D37"
      }
    },
    {
      "cell_type": "code",
      "source": [
        "data_2021 = pd.read_csv(\"https://docs.google.com/spreadsheets/d/e/2PACX-1vTY6__uLsrWfMiyhhrbsYySjWeeX_Vk1yD9glm8sp4qRFxjLDBKJiBGzCbwME9jFQ/pub?output=csv\")"
      ],
      "metadata": {
        "id": "uT4Cb9EU5C62"
      },
      "execution_count": null,
      "outputs": []
    },
    {
      "cell_type": "code",
      "source": [
        "# Eliminar filas con valores NaN en latitud y longitud\n",
        "data_2021 = data_2021.dropna(subset=['latitud', 'longitud'])\n",
        "\n",
        "\n",
        "# Crear un array con las coordenadas de la muestra\n",
        "coordinates = data_2021[['latitud', 'longitud']].to_numpy()\n",
        "\n",
        "# Configurar y aplicar el modelo MiniBatchKMeans para clústeres\n",
        "num_clusters = 50  # Define el número de clústeres\n",
        "kmeans = MiniBatchKMeans(n_clusters=num_clusters, batch_size=10000, random_state=42)\n",
        "data_2021['cluster'] = kmeans.fit_predict(coordinates)\n",
        "\n",
        "# Liberar memoria no utilizada\n",
        "gc.collect()\n",
        "\n",
        "# Visualizar el número de clústeres encontrados\n",
        "print(f\"Número de clústeres especificados: {num_clusters}\")\n",
        "\n",
        "# Calcular el centro de cada clúster\n",
        "from shapely.geometry import MultiPoint\n",
        "centroids_2021 = []\n",
        "for cluster_num in range(num_clusters):\n",
        "    cluster_points = coordinates[data_2021['cluster'] == cluster_num]\n",
        "    cluster_center = MultiPoint(cluster_points).centroid\n",
        "    centroids_2021.append(cluster_center)\n",
        "\n",
        "print(\"Centroides de los clústeres:\", centroids_2021)\n",
        "\n",
        "# Crear un mapa centrado en la Ciudad de México\n",
        "mapa = folium.Map(location=[19.4326, -99.1332], zoom_start=12)\n",
        "\n",
        "# Agregar los puntos de accidentes al mapa\n",
        "for i, row in data_2023.iterrows():\n",
        "    folium.CircleMarker(\n",
        "        location=(row['latitud'], row['longitud']),\n",
        "        radius=5, color='blue', fill=True, fill_color='blue'\n",
        "    ).add_to(mapa)\n",
        "\n",
        "# Agregar los centroides al mapa (puntos rojos)\n",
        "for centroide in kmeans.cluster_centers_:\n",
        "    latitud, longitud = centroide  # Extraer las coordenadas del centroide\n",
        "    folium.CircleMarker(\n",
        "        location=(latitud, longitud),  # latitud, longitud del centroide\n",
        "        radius=7, color='red', fill=True, fill_color='red'\n",
        "    ).add_to(mapa)\n",
        "\n",
        "# Guardar o mostrar el mapa\n",
        "mapa.save(\"mapa_accidentes_2021.html\")"
      ],
      "metadata": {
        "colab": {
          "base_uri": "https://localhost:8080/"
        },
        "outputId": "986552c8-51ee-49df-8107-4f0db9a95a07",
        "id": "PM91X_EEUI4U"
      },
      "execution_count": null,
      "outputs": [
        {
          "output_type": "stream",
          "name": "stderr",
          "text": [
            "<ipython-input-12-013dc98308ad>:11: SettingWithCopyWarning: \n",
            "A value is trying to be set on a copy of a slice from a DataFrame.\n",
            "Try using .loc[row_indexer,col_indexer] = value instead\n",
            "\n",
            "See the caveats in the documentation: https://pandas.pydata.org/pandas-docs/stable/user_guide/indexing.html#returning-a-view-versus-a-copy\n",
            "  data_2021['cluster'] = kmeans.fit_predict(coordinates)\n"
          ]
        },
        {
          "output_type": "stream",
          "name": "stdout",
          "text": [
            "Número de clústeres especificados: 50\n",
            "Centroides de los clústeres: [<POINT (19.37 -99.126)>, <POINT (19.438 -99.148)>, <POINT (19.259 -99.112)>, <POINT (19.344 -99.198)>, <POINT (19.375 -99.081)>, <POINT (19.35 -99.003)>, <POINT (19.476 -99.114)>, <POINT (19.489 -99.203)>, <POINT (19.299 -99.047)>, <POINT (19.429 -99.172)>, <POINT (19.251 -99.221)>, <POINT (19.342 -99.3)>, <POINT (19.404 -99.065)>, <POINT (19.241 -98.998)>, <POINT (19.469 -99.145)>, <POINT (19.296 -99.119)>, <POINT (19.422 -99.128)>, <POINT (19.378 -99.223)>, <POINT (19.547 -99.14)>, <POINT (19.395 -99.182)>, <POINT (19.317 -99.077)>, <POINT (19.324 -99.238)>, <POINT (19.447 -99.083)>, <POINT (19.131 -99.179)>, <POINT (19.301 -99.155)>, <POINT (19.444 -99.204)>, <POINT (19.509 -99.148)>, <POINT (19.46 -99.178)>, <POINT (19.339 -99.158)>, <POINT (19.447 -99.12)>, <POINT (19.235 -99.066)>, <POINT (19.377 -99.034)>, <POINT (19.332 -99.131)>, <POINT (19.216 -99.147)>, <POINT (19.344 -99.053)>, <POINT (19.377 -99.152)>, <POINT (19.484 -99.082)>, <POINT (19.417 -99.209)>, <POINT (19.37 -99.268)>, <POINT (19.285 -99.224)>, <POINT (19.411 -99.092)>, <POINT (19.189 -99.021)>, <POINT (19.488 -99.181)>, <POINT (19.284 -99.005)>, <POINT (19.268 -99.171)>, <POINT (19.302 -99.189)>, <POINT (19.406 -99.153)>, <POINT (19.347 -99.106)>, <POINT (19.4 -99.124)>, <POINT (19.368 -99.182)>]\n"
          ]
        }
      ]
    },
    {
      "cell_type": "markdown",
      "source": [
        "2022"
      ],
      "metadata": {
        "id": "FKAwkXrM5SJD"
      }
    },
    {
      "cell_type": "code",
      "source": [
        "data_2022 = pd.read_csv(\"https://docs.google.com/spreadsheets/d/e/2PACX-1vScMsJsRVAVimIXPs2K3ck_A7D4mkWxqf9AAuSm_D4ypETbAqsYsunccD-C2WySkg/pub?output=csv\")"
      ],
      "metadata": {
        "id": "ygvE44Ld5UCr"
      },
      "execution_count": null,
      "outputs": []
    },
    {
      "cell_type": "code",
      "source": [
        "# Eliminar filas con valores NaN en latitud y longitud\n",
        "data_2022 = data_2022.dropna(subset=['latitud', 'longitud'])\n",
        "\n",
        "\n",
        "# Crear un array con las coordenadas de la muestra\n",
        "coordinates = data_2022[['latitud', 'longitud']].to_numpy()\n",
        "\n",
        "# Configurar y aplicar el modelo MiniBatchKMeans para clústeres\n",
        "num_clusters = 50  # Define el número de clústeres\n",
        "kmeans = MiniBatchKMeans(n_clusters=num_clusters, batch_size=10000, random_state=42)\n",
        "data_2022['cluster'] = kmeans.fit_predict(coordinates)\n",
        "\n",
        "# Liberar memoria no utilizada\n",
        "gc.collect()\n",
        "\n",
        "# Visualizar el número de clústeres encontrados\n",
        "print(f\"Número de clústeres especificados: {num_clusters}\")\n",
        "\n",
        "# Calcular el centro de cada clúster\n",
        "from shapely.geometry import MultiPoint\n",
        "centroids_2022 = []\n",
        "for cluster_num in range(num_clusters):\n",
        "    cluster_points = coordinates[data_2022['cluster'] == cluster_num]\n",
        "    cluster_center = MultiPoint(cluster_points).centroid\n",
        "    centroids_2022.append(cluster_center)\n",
        "\n",
        "print(\"Centroides de los clústeres:\", centroids_2022)\n",
        "\n",
        "# Crear un mapa centrado en la Ciudad de México\n",
        "mapa = folium.Map(location=[19.4326, -99.1332], zoom_start=12)\n",
        "\n",
        "# Agregar los puntos de accidentes al mapa\n",
        "for i, row in data_2022.iterrows():\n",
        "    folium.CircleMarker(\n",
        "        location=(row['latitud'], row['longitud']),\n",
        "        radius=5, color='blue', fill=True, fill_color='blue'\n",
        "    ).add_to(mapa)\n",
        "\n",
        "# Agregar los centroides al mapa (puntos rojos)\n",
        "for centroide in kmeans.cluster_centers_:\n",
        "    latitud, longitud = centroide  # Extraer las coordenadas del centroide\n",
        "    folium.CircleMarker(\n",
        "        location=(latitud, longitud),  # latitud, longitud del centroide\n",
        "        radius=7, color='red', fill=True, fill_color='red'\n",
        "    ).add_to(mapa)\n",
        "\n",
        "# Guardar o mostrar el mapa\n",
        "mapa.save(\"mapa_accidentes_2022.html\")"
      ],
      "metadata": {
        "id": "sEz3tHq37AMA",
        "colab": {
          "base_uri": "https://localhost:8080/"
        },
        "outputId": "c604e848-6a8b-4653-f8cc-0a2b46d3e9bc"
      },
      "execution_count": null,
      "outputs": [
        {
          "output_type": "stream",
          "name": "stdout",
          "text": [
            "Número de clústeres especificados: 50\n",
            "Centroides de los clústeres: [<POINT (19.489 -99.122)>, <POINT (19.413 -99.12)>, <POINT (19.314 -99.077)>, <POINT (19.304 -99.177)>, <POINT (19.432 -99.163)>, <POINT (19.4 -99.183)>, <POINT (19.373 -99.03)>, <POINT (19.299 -99.047)>, <POINT (19.443 -99.118)>, <POINT (19.299 -99.149)>, <POINT (19.352 -99.29)>, <POINT (19.373 -99.153)>, <POINT (19.252 -99.107)>, <POINT (19.46 -99.177)>, <POINT (19.381 -99.085)>, <POINT (19.482 -99.154)>, <POINT (19.336 -99.248)>, <POINT (19.203 -98.997)>, <POINT (19.315 -99.222)>, <POINT (19.458 -99.066)>, <POINT (19.462 -99.132)>, <POINT (19.375 -99.121)>, <POINT (19.275 -99.006)>, <POINT (19.371 -99.188)>, <POINT (19.27 -99.171)>, <POINT (19.432 -99.14)>, <POINT (19.32 -99.116)>, <POINT (19.346 -99.064)>, <POINT (19.434 -99.211)>, <POINT (19.552 -99.14)>, <POINT (19.413 -99.083)>, <POINT (19.202 -99.064)>, <POINT (19.405 -99.147)>, <POINT (19.489 -99.196)>, <POINT (19.223 -99.164)>, <POINT (19.339 -99.035)>, <POINT (19.279 -99.224)>, <POINT (19.253 -99.062)>, <POINT (19.45 -99.093)>, <POINT (19.388 -99.059)>, <POINT (19.354 -99.107)>, <POINT (19.487 -99.088)>, <POINT (19.437 -99.189)>, <POINT (19.342 -99.189)>, <POINT (19.284 -99.124)>, <POINT (19.336 -99.149)>, <POINT (19.517 -99.153)>, <POINT (19.125 -99.182)>, <POINT (19.378 -99.231)>, <POINT (19.35 -98.998)>]\n"
          ]
        }
      ]
    },
    {
      "cell_type": "markdown",
      "source": [
        "2023"
      ],
      "metadata": {
        "id": "UjzhKFck5bp7"
      }
    },
    {
      "cell_type": "code",
      "source": [
        "data_2023 = pd.read_csv(\"https://docs.google.com/spreadsheets/d/e/2PACX-1vQk160vUoiooBatpS_QBj_g42Wp1GaN720cz-zw8f27sh2CbGfVk_dTzaprwSOutA/pub?output=csv\")"
      ],
      "metadata": {
        "id": "pDDJlSDI5ckj"
      },
      "execution_count": null,
      "outputs": []
    },
    {
      "cell_type": "code",
      "source": [
        "# Eliminar filas con valores NaN en latitud y longitud\n",
        "data_2023 = data_2023.dropna(subset=['latitud', 'longitud'])\n",
        "\n",
        "\n",
        "# Crear un array con las coordenadas de la muestra\n",
        "coordinates = data_2023[['latitud', 'longitud']].to_numpy()\n",
        "\n",
        "# Configurar y aplicar el modelo MiniBatchKMeans para clústeres\n",
        "num_clusters = 50  # Define el número de clústeres\n",
        "kmeans = MiniBatchKMeans(n_clusters=num_clusters, batch_size=10000, random_state=42)\n",
        "data_2023['cluster'] = kmeans.fit_predict(coordinates)\n",
        "\n",
        "# Liberar memoria no utilizada\n",
        "gc.collect()\n",
        "\n",
        "# Visualizar el número de clústeres encontrados\n",
        "print(f\"Número de clústeres especificados: {num_clusters}\")\n",
        "\n",
        "# Calcular el centro de cada clúster\n",
        "from shapely.geometry import MultiPoint\n",
        "centroids_2023 = []\n",
        "for cluster_num in range(num_clusters):\n",
        "    cluster_points = coordinates[data_2023['cluster'] == cluster_num]\n",
        "    cluster_center = MultiPoint(cluster_points).centroid\n",
        "    centroids_2023.append(cluster_center)\n",
        "\n",
        "print(\"Centroides de los clústeres:\", centroids_2023)\n",
        "\n",
        "# Crear un mapa centrado en la Ciudad de México\n",
        "mapa = folium.Map(location=[19.4326, -99.1332], zoom_start=12)\n",
        "\n",
        "# Agregar los puntos de accidentes al mapa\n",
        "for i, row in data_2023.iterrows():\n",
        "    folium.CircleMarker(\n",
        "        location=(row['latitud'], row['longitud']),\n",
        "        radius=5, color='blue', fill=True, fill_color='blue'\n",
        "    ).add_to(mapa)\n",
        "\n",
        "# Agregar los centroides al mapa (puntos rojos)\n",
        "for centroide in kmeans.cluster_centers_:\n",
        "    latitud, longitud = centroide  # Extraer las coordenadas del centroide\n",
        "    folium.CircleMarker(\n",
        "        location=(latitud, longitud),  # latitud, longitud del centroide\n",
        "        radius=7, color='red', fill=True, fill_color='red'\n",
        "    ).add_to(mapa)\n",
        "\n",
        "# Guardar o mostrar el mapa\n",
        "mapa.save(\"mapa_accidentes_2023.html\")"
      ],
      "metadata": {
        "id": "WxvqDPYv7ZgY",
        "colab": {
          "base_uri": "https://localhost:8080/"
        },
        "outputId": "568eec01-fc87-495f-ce6c-27b864c64761"
      },
      "execution_count": null,
      "outputs": [
        {
          "output_type": "stream",
          "name": "stdout",
          "text": [
            "Número de clústeres especificados: 50\n",
            "Centroides de los clústeres: [<POINT (19.441 -99.143)>, <POINT (19.368 -99.214)>, <POINT (19.396 -99.164)>, <POINT (19.367 -99.075)>, <POINT (19.3 -99.188)>, <POINT (19.416 -99.17)>, <POINT (19.307 -99.065)>, <POINT (19.46 -99.07)>, <POINT (19.367 -99.251)>, <POINT (19.49 -99.126)>, <POINT (19.249 -99.098)>, <POINT (19.405 -99.138)>, <POINT (19.341 -99.2)>, <POINT (19.353 -99.004)>, <POINT (19.463 -99.18)>, <POINT (19.334 -99.143)>, <POINT (19.266 -99.01)>, <POINT (19.302 -99.118)>, <POINT (19.425 -99.126)>, <POINT (19.418 -99.065)>, <POINT (19.323 -99.324)>, <POINT (19.373 -99.149)>, <POINT (19.459 -99.119)>, <POINT (19.235 -99.222)>, <POINT (-19.327 -99.114)>, <POINT (19.341 -99.052)>, <POINT (19.514 -99.154)>, <POINT (19.375 -99.187)>, <POINT (19.377 -99.037)>, <POINT (19.4 -99.192)>, <POINT (19.366 -99.114)>, <POINT (19.284 -99.221)>, <POINT (19.487 -99.091)>, <POINT (19.414 -99.089)>, <POINT (19.489 -99.196)>, <POINT (19.186 -99.154)>, <POINT (19.434 -99.165)>, <POINT (19.551 -99.14)>, <POINT (19.357 -99.284)>, <POINT (19.435 -99.203)>, <POINT (19.295 19.295)>, <POINT (19.393 -99.068)>, <POINT (19.4 -99.104)>, <POINT (19.47 -99.147)>, <POINT (19.394 -99.23)>, <POINT (19.298 -99.152)>, <POINT (19.44 -99.102)>, <POINT (19.317 -99.239)>, <POINT (19.349 -99.168)>, <POINT (19.267 -99.169)>]\n"
          ]
        }
      ]
    },
    {
      "cell_type": "markdown",
      "source": [
        "Comparacion"
      ],
      "metadata": {
        "id": "9xCCEDb3Fq0l"
      }
    },
    {
      "cell_type": "code",
      "source": [
        "# Crear un mapa centrado en la Ciudad de México\n",
        "mapa = folium.Map(location=[19.4326, -99.1332], zoom_start=12)\n",
        "\n",
        "# Función para obtener los centroides de los clústeres de un año específico\n",
        "def obtener_centroides(data, num_clusters=50):\n",
        "    # Eliminar filas con valores NaN en latitud y longitud\n",
        "    data = data.dropna(subset=['latitud', 'longitud'])\n",
        "\n",
        "    # Crear un array con las coordenadas\n",
        "    coordinates = data[['latitud', 'longitud']].to_numpy()\n",
        "\n",
        "    # Configurar y aplicar el modelo MiniBatchKMeans para clústeres\n",
        "    kmeans = MiniBatchKMeans(n_clusters=num_clusters, batch_size=10000, random_state=42)\n",
        "    data['cluster'] = kmeans.fit_predict(coordinates)\n",
        "\n",
        "    # Calcular el centro de cada clúster\n",
        "    centroids = []\n",
        "    for cluster_num in range(num_clusters):\n",
        "        cluster_points = coordinates[data['cluster'] == cluster_num]\n",
        "        cluster_center = MultiPoint(cluster_points).centroid\n",
        "        centroids.append(cluster_center)\n",
        "\n",
        "    return centroids\n",
        "\n",
        "# Colores para cada año\n",
        "colores = {2021: 'red', 2022: 'green', 2023: 'blue'}\n",
        "\n",
        "# Añadir los centroides de cada año al mapa\n",
        "for año, data in zip([2021, 2022, 2023], [data_2021, data_2022, data_2023]):\n",
        "    centroides = obtener_centroides(data)\n",
        "    color = colores[año]\n",
        "\n",
        "    # Si no se encontraron centroides, imprimir el año para depurar\n",
        "    if not centroides:\n",
        "        print(f\"No se encontraron centroides para el año {año}\")\n",
        "\n",
        "    for centroide in centroides:\n",
        "        latitud, longitud = centroide.coords[0]\n",
        "        folium.CircleMarker(\n",
        "            location=(latitud, longitud),\n",
        "            radius=7, color=color, fill=True, fill_color=color\n",
        "        ).add_to(mapa)\n",
        "\n",
        "# Guardar el mapa con los centroides para los tres años\n",
        "mapa.save(\"mapa_centroides_global.html\")\n"
      ],
      "metadata": {
        "id": "iaEr-7AwNnOY"
      },
      "execution_count": null,
      "outputs": []
    },
    {
      "cell_type": "markdown",
      "source": [
        "Mapa con coordenadas"
      ],
      "metadata": {
        "id": "7LIeb3YYFEnS"
      }
    },
    {
      "cell_type": "code",
      "source": [
        "# Crear un mapa centrado en la Ciudad de México\n",
        "mapa = folium.Map(location=[19.4326, -99.1332], zoom_start=12)\n",
        "\n",
        "# Función para obtener los centroides de los clústeres de un año específico\n",
        "def obtener_centroides(data, num_clusters=50):\n",
        "    # Eliminar filas con valores NaN en latitud y longitud\n",
        "    data = data.dropna(subset=['latitud', 'longitud'])\n",
        "\n",
        "    # Crear un array con las coordenadas\n",
        "    coordinates = data[['latitud', 'longitud']].to_numpy()\n",
        "\n",
        "    # Configurar y aplicar el modelo MiniBatchKMeans para clústeres\n",
        "    kmeans = MiniBatchKMeans(n_clusters=num_clusters, batch_size=10000, random_state=42)\n",
        "    data['cluster'] = kmeans.fit_predict(coordinates)\n",
        "\n",
        "    # Calcular el centro de cada clúster\n",
        "    centroids = []\n",
        "    for cluster_num in range(num_clusters):\n",
        "        cluster_points = coordinates[data['cluster'] == cluster_num]\n",
        "        cluster_center = MultiPoint(cluster_points).centroid\n",
        "        centroids.append(cluster_center)\n",
        "\n",
        "    return centroids\n",
        "\n",
        "# Colores para cada año\n",
        "colores = {2021: 'red', 2022: 'green', 2023: 'blue'}\n",
        "\n",
        "# Añadir los centroides de cada año al mapa\n",
        "for año, data in zip([2021, 2022, 2023], [data_2021, data_2022, data_2023]):\n",
        "    centroides = obtener_centroides(data)\n",
        "    color = colores[año]\n",
        "\n",
        "    # Si no se encontraron centroides, imprimir el año para depurar\n",
        "    if not centroides:\n",
        "        print(f\"No se encontraron centroides para el año {año}\")\n",
        "\n",
        "    for centroide in centroides:\n",
        "        latitud, longitud = centroide.coords[0]\n",
        "        folium.CircleMarker(\n",
        "            location=(latitud, longitud),\n",
        "            radius=7, color=color, fill=True, fill_color=color,\n",
        "            tooltip=f\"Año: {año}<br>Latitud: {latitud:.6f}<br>Longitud: {longitud:.6f}\"\n",
        "        ).add_to(mapa)\n",
        "\n",
        "# Guardar el mapa con los centroides para los tres años\n",
        "mapa.save(\"mapa_centroides_global2.html\")\n"
      ],
      "metadata": {
        "id": "bNBoYRVqEZqW"
      },
      "execution_count": null,
      "outputs": []
    }
  ]
}