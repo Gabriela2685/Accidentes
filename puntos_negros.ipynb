{
  "nbformat": 4,
  "nbformat_minor": 0,
  "metadata": {
    "colab": {
      "provenance": [],
      "authorship_tag": "ABX9TyPrFIBwW9Jf34hXTSpAqmRN",
      "include_colab_link": true
    },
    "kernelspec": {
      "name": "python3",
      "display_name": "Python 3"
    },
    "language_info": {
      "name": "python"
    }
  },
  "cells": [
    {
      "cell_type": "markdown",
      "metadata": {
        "id": "view-in-github",
        "colab_type": "text"
      },
      "source": [
        "<a href=\"https://colab.research.google.com/github/Gabriela2685/Accidentes/blob/main/puntos_negros.ipynb\" target=\"_parent\"><img src=\"https://colab.research.google.com/assets/colab-badge.svg\" alt=\"Open In Colab\"/></a>"
      ]
    },
    {
      "cell_type": "code",
      "source": [
        "# Importar las librerías necesarias\n",
        "import pandas as pd\n",
        "from sklearn.cluster import MiniBatchKMeans\n",
        "from geopy.distance import great_circle\n",
        "from shapely.geometry import MultiPoint\n",
        "import folium\n",
        "import gc"
      ],
      "metadata": {
        "id": "_uxNBcL2v83v"
      },
      "execution_count": null,
      "outputs": []
    },
    {
      "cell_type": "code",
      "source": [
        "data = pd.read_csv(\"https://docs.google.com/spreadsheets/d/e/2PACX-1vQGVuLESo9dj1QzZuPoqvsQBvGT3-NIjLA34Mus7Q6yPAxvQpRbWhjsuUJoAUEThw/pub?output=csv\")"
      ],
      "metadata": {
        "id": "hK24A8OKv8mg",
        "colab": {
          "base_uri": "https://localhost:8080/"
        },
        "outputId": "38574ce3-29bb-43e0-dcb6-42b7cb898404"
      },
      "execution_count": null,
      "outputs": [
        {
          "output_type": "stream",
          "name": "stdout",
          "text": [
            "hora_evento\n"
          ]
        },
        {
          "output_type": "stream",
          "name": "stderr",
          "text": [
            "<ipython-input-22-65710d555c13>:1: DtypeWarning: Columns (1) have mixed types. Specify dtype option on import or set low_memory=False.\n",
            "  data = pd.read_csv(\"https://docs.google.com/spreadsheets/d/e/2PACX-1vQGVuLESo9dj1QzZuPoqvsQBvGT3-NIjLA34Mus7Q6yPAxvQpRbWhjsuUJoAUEThw/pub?output=csv\")\n"
          ]
        }
      ]
    },
    {
      "cell_type": "code",
      "source": [
        "# Imprimir el número de filas\n",
        "print(f\"Número de filas: {len(data)}\")"
      ],
      "metadata": {
        "colab": {
          "base_uri": "https://localhost:8080/"
        },
        "id": "0IB2CdZNxjqN",
        "outputId": "fdb21708-2c73-4d53-b898-0290dcc3f20e"
      },
      "execution_count": null,
      "outputs": [
        {
          "output_type": "stream",
          "name": "stdout",
          "text": [
            "Número de filas: 67366\n"
          ]
        }
      ]
    },
    {
      "cell_type": "code",
      "source": [
        "# Eliminar filas con valores NaN en latitud y longitud\n",
        "data = data.dropna(subset=['latitud', 'longitud'])\n",
        "\n",
        "# Tomar una muestra de 10,000 filas para reducir el consumo de memoria\n",
        "data_sample = data.sample(n=20000, random_state=42)\n",
        "\n",
        "# Crear un array con las coordenadas de la muestra\n",
        "coordinates = data_sample[['latitud', 'longitud']].to_numpy()\n",
        "\n",
        "# Configurar y aplicar el modelo MiniBatchKMeans para clústeres\n",
        "num_clusters = 50  # Define el número de clústeres\n",
        "kmeans = MiniBatchKMeans(n_clusters=num_clusters, batch_size=10000, random_state=42)\n",
        "data_sample['cluster'] = kmeans.fit_predict(coordinates)\n",
        "\n",
        "# Liberar memoria no utilizada\n",
        "gc.collect()\n",
        "\n",
        "# Visualizar el número de clústeres encontrados\n",
        "print(f\"Número de clústeres especificados: {num_clusters}\")\n",
        "\n",
        "# Calcular el centro de cada clúster\n",
        "from shapely.geometry import MultiPoint\n",
        "centroids = []\n",
        "for cluster_num in range(num_clusters):\n",
        "    cluster_points = coordinates[data_sample['cluster'] == cluster_num]\n",
        "    cluster_center = MultiPoint(cluster_points).centroid\n",
        "    centroids.append(cluster_center)\n",
        "\n",
        "print(\"Centroides de los clústeres:\", centroids)\n",
        "\n",
        "# Crear un mapa centrado en la Ciudad de México\n",
        "mapa = folium.Map(location=[19.4326, -99.1332], zoom_start=12)\n",
        "\n",
        "# Agregar los puntos de accidentes al mapa\n",
        "for i, row in data_sample.iterrows():\n",
        "    folium.CircleMarker(\n",
        "        location=(row['latitud'], row['longitud']),\n",
        "        radius=5, color='blue', fill=True, fill_color='blue'\n",
        "    ).add_to(mapa)\n",
        "\n",
        "# Agregar los centroides al mapa (puntos rojos)\n",
        "for centroide in kmeans.cluster_centers_:\n",
        "    latitud, longitud = centroide  # Extraer las coordenadas del centroide\n",
        "    folium.CircleMarker(\n",
        "        location=(latitud, longitud),  # latitud, longitud del centroide\n",
        "        radius=7, color='red', fill=True, fill_color='red'\n",
        "    ).add_to(mapa)\n",
        "\n",
        "# Guardar o mostrar el mapa\n",
        "mapa.save(\"mapa_accidentes3.html\")"
      ],
      "metadata": {
        "colab": {
          "base_uri": "https://localhost:8080/"
        },
        "outputId": "811225a2-45c9-40fa-a614-a8fadc82c11b",
        "id": "dSGlZGERwzX0"
      },
      "execution_count": null,
      "outputs": [
        {
          "output_type": "stream",
          "name": "stdout",
          "text": [
            "Número de clústeres especificados: 50\n",
            "Centroides de los clústeres: [<POINT (19.37 -99.171)>, <POINT (19.425 -99.15)>, <POINT (19.448 -99.099)>, <POINT (19.286 -99.122)>, <POINT (19.366 -99.024)>, <POINT (19.441 -99.172)>, <POINT (19.376 -99.244)>, <POINT (19.413 -99.085)>, <POINT (19.277 -99.006)>, <POINT (19.533 -99.15)>, <POINT (19.302 -99.215)>, <POINT (19.387 -99.141)>, <POINT (19.479 -99.193)>, <POINT (19.316 -99.076)>, <POINT (19.467 -99.151)>, <POINT (19.372 -99.11)>, <POINT (19.251 -99.098)>, <POINT (19.294 -99.168)>, <POINT (19.394 -99.187)>, <POINT (19.331 -99.111)>, <POINT (19.407 -99.168)>, <POINT (19.488 -99.087)>, <POINT (19.432 -99.119)>, <POINT (19.205 -98.987)>, <POINT (19.321 -99.325)>, <POINT (-19.327 -99.114)>, <POINT (19.338 -99.17)>, <POINT (19.472 -99.117)>, <POINT (19.338 -99.042)>, <POINT (19.356 -99.143)>, <POINT (19.322 -99.248)>, <POINT (19.432 -99.206)>, <POINT (19.411 -99.131)>, <POINT (19.455 -99.068)>, <POINT (19.389 -99.05)>, <POINT (19.354 -99.068)>, <POINT (19.378 -99.207)>, <POINT (19.319 -99.145)>, <POINT (19.349 -98.996)>, <POINT (19.276 -99.228)>, <POINT (19.199 -99.046)>, <POINT (19.45 -99.135)>, <POINT (19.184 -99.157)>, <POINT (19.296 -99.047)>, <POINT (19.254 -99.171)>, <POINT (19.357 -99.284)>, <POINT (19.384 -99.077)>, <POINT (19.498 -99.127)>, <POINT (19.343 -99.204)>, <POINT (19.498 -99.158)>]\n"
          ]
        }
      ]
    }
  ]
}