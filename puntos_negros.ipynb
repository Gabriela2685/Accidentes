{
  "nbformat": 4,
  "nbformat_minor": 0,
  "metadata": {
    "colab": {
      "provenance": [],
      "authorship_tag": "ABX9TyNGYpAilx5o1d/w9bViNsO6",
      "include_colab_link": true
    },
    "kernelspec": {
      "name": "python3",
      "display_name": "Python 3"
    },
    "language_info": {
      "name": "python"
    }
  },
  "cells": [
    {
      "cell_type": "markdown",
      "metadata": {
        "id": "view-in-github",
        "colab_type": "text"
      },
      "source": [
        "<a href=\"https://colab.research.google.com/github/Gabriela2685/Accidentes/blob/main/puntos_negros.ipynb\" target=\"_parent\"><img src=\"https://colab.research.google.com/assets/colab-badge.svg\" alt=\"Open In Colab\"/></a>"
      ]
    },
    {
      "cell_type": "code",
      "source": [
        "# Importar las librerías necesarias\n",
        "import pandas as pd\n",
        "import numpy as np\n",
        "from sklearn.cluster import MiniBatchKMeans\n",
        "from geopy.distance import great_circle\n",
        "from shapely.geometry import MultiPoint\n",
        "import folium\n",
        "import gc"
      ],
      "metadata": {
        "id": "_uxNBcL2v83v"
      },
      "execution_count": null,
      "outputs": []
    },
    {
      "cell_type": "code",
      "source": [
        "# Cargar los datos (asegúrate de que tu base de datos tenga columnas 'latitud' y 'longitud')\n",
        "data = pd.read_csv(\"https://docs.google.com/spreadsheets/d/e/2PACX-1vQGVuLESo9dj1QzZuPoqvsQBvGT3-NIjLA34Mus7Q6yPAxvQpRbWhjsuUJoAUEThw/pub?output=csv\")"
      ],
      "metadata": {
        "id": "hK24A8OKv8mg"
      },
      "execution_count": null,
      "outputs": []
    },
    {
      "cell_type": "code",
      "source": [
        "# Imprimir el número de filas\n",
        "print(f\"Número de filas: {len(data)}\")\n"
      ],
      "metadata": {
        "colab": {
          "base_uri": "https://localhost:8080/"
        },
        "id": "0IB2CdZNxjqN",
        "outputId": "e503a275-40da-4416-cfc5-4de3fa8a2dc6"
      },
      "execution_count": null,
      "outputs": [
        {
          "output_type": "stream",
          "name": "stdout",
          "text": [
            "Número de filas: 321544\n"
          ]
        }
      ]
    },
    {
      "cell_type": "code",
      "source": [
        "# Eliminar filas con valores NaN en latitud y longitud\n",
        "data = data.dropna(subset=['latitud', 'longitud'])\n",
        "\n",
        "# Tomar una muestra de 10,000 filas para reducir el consumo de memoria\n",
        "data_sample = data.sample(n=20000, random_state=42)\n",
        "\n",
        "# Crear un array con las coordenadas de la muestra\n",
        "coordinates = data_sample[['latitud', 'longitud']].to_numpy()\n",
        "\n",
        "# Configurar y aplicar el modelo MiniBatchKMeans para clústeres\n",
        "num_clusters = 50  # Define el número de clústeres\n",
        "kmeans = MiniBatchKMeans(n_clusters=num_clusters, batch_size=10000, random_state=42)\n",
        "data_sample['cluster'] = kmeans.fit_predict(coordinates)\n",
        "\n",
        "# Liberar memoria no utilizada\n",
        "gc.collect()\n",
        "\n",
        "# Visualizar el número de clústeres encontrados\n",
        "print(f\"Número de clústeres especificados: {num_clusters}\")\n",
        "\n",
        "# Calcular el centro de cada clúster\n",
        "from shapely.geometry import MultiPoint\n",
        "centroids = []\n",
        "for cluster_num in range(num_clusters):\n",
        "    cluster_points = coordinates[data_sample['cluster'] == cluster_num]\n",
        "    cluster_center = MultiPoint(cluster_points).centroid\n",
        "    centroids.append(cluster_center)\n",
        "\n",
        "print(\"Centroides de los clústeres:\", centroids)\n",
        "\n",
        "# Crear un mapa centrado en la Ciudad de México\n",
        "mapa = folium.Map(location=[19.4326, -99.1332], zoom_start=12)\n",
        "\n",
        "# Agregar los puntos de accidentes al mapa\n",
        "for i, row in data_sample.iterrows():\n",
        "    folium.CircleMarker(\n",
        "        location=(row['latitud'], row['longitud']),\n",
        "        radius=5, color='blue', fill=True, fill_color='blue'\n",
        "    ).add_to(mapa)\n",
        "\n",
        "# Agregar los centroides al mapa (puntos rojos)\n",
        "for centroide in kmeans.cluster_centers_:\n",
        "    latitud, longitud = centroide  # Extraer las coordenadas del centroide\n",
        "    folium.CircleMarker(\n",
        "        location=(latitud, longitud),  # latitud, longitud del centroide\n",
        "        radius=7, color='red', fill=True, fill_color='red'\n",
        "    ).add_to(mapa)\n",
        "\n",
        "# Guardar o mostrar el mapa\n",
        "mapa.save(\"mapa_accidentes3.html\")"
      ],
      "metadata": {
        "colab": {
          "base_uri": "https://localhost:8080/"
        },
        "outputId": "38f0ee1a-e98d-42ea-b5f2-919927d22af0",
        "id": "dSGlZGERwzX0"
      },
      "execution_count": null,
      "outputs": [
        {
          "output_type": "stream",
          "name": "stdout",
          "text": [
            "Número de clústeres especificados: 50\n",
            "Centroides de los clústeres: [<POINT (19.323 -99.225)>, <POINT (19.388 -99.036)>, <POINT (19.465 -99.144)>, <POINT (19.254 -99.12)>, <POINT (19.398 -99.166)>, <POINT (19.189 -99.021)>, <POINT (19.325 -99.139)>, <POINT (19.421 -99.177)>, <POINT (19.454 -99.08)>, <POINT (19.355 -99.009)>, <POINT (19.361 -99.205)>, <POINT (19.325 -99.174)>, <POINT (19.409 -99.069)>, <POINT (19.373 -99.115)>, <POINT (19.309 -99.067)>, <POINT (19.511 -99.151)>, <POINT (19.45 -99.125)>, <POINT (19.353 -99.078)>, <POINT (19.443 -99.195)>, <POINT (19.364 -99.274)>, <POINT (19.238 -99.165)>, <POINT (19.415 -99.095)>, <POINT (19.292 -99.02)>, <POINT (19.489 -99.198)>, <POINT (19.434 -99.147)>, <POINT (19.478 -99.117)>, <POINT (19.374 -99.019)>, <POINT (19.345 -99.05)>, <POINT (19.407 -99.206)>, <POINT (19.293 -99.134)>, <POINT (19.283 -99.223)>, <POINT (19.242 -99.079)>, <POINT (19.36 -99.157)>, <POINT (19.381 -99.076)>, <POINT (19.356 -98.992)>, <POINT (19.41 -99.145)>, <POINT (19.288 -99.168)>, <POINT (19.462 -99.171)>, <POINT (19.489 -99.087)>, <POINT (19.415 -99.123)>, <POINT (19.34 -99.311)>, <POINT (19.383 -99.143)>, <POINT (19.551 -99.139)>, <POINT (19.339 -99.109)>, <POINT (19.299 -99.111)>, <POINT (19.315 -99.252)>, <POINT (19.258 -99.001)>, <POINT (19.382 -99.24)>, <POINT (19.196 -99.164)>, <POINT (19.382 -99.186)>]\n"
          ]
        }
      ]
    },
    {
      "cell_type": "code",
      "source": [
        "# Eliminar filas con valores NaN en latitud y longitud\n",
        "data = data.dropna(subset=['latitud', 'longitud'])\n",
        "\n",
        "# Tomar una muestra de 20,000 filas para reducir el consumo de memoria\n",
        "data_sample = data.sample(n=20000, random_state=42)\n",
        "\n",
        "# Crear un array con las coordenadas de la muestra\n",
        "coordinates = data_sample[['latitud', 'longitud']].to_numpy()\n",
        "\n",
        "# Configurar y aplicar el modelo MiniBatchKMeans para clústeres\n",
        "num_clusters = 50  # Define el número de clústeres\n",
        "kmeans = MiniBatchKMeans(n_clusters=num_clusters, batch_size=10000, random_state=42)\n",
        "data_sample['cluster'] = kmeans.fit_predict(coordinates)\n",
        "\n",
        "# Liberar memoria no utilizada\n",
        "gc.collect()\n",
        "\n",
        "# Contar el número de puntos en cada clúster\n",
        "cluster_counts = data_sample['cluster'].value_counts()\n",
        "\n",
        "# Seleccionar los 20 clústeres con más puntos (con mayor aglomeración)\n",
        "top_20_clusters = cluster_counts.head(20)\n",
        "\n",
        "# Filtrar los puntos de los 20 clústeres con mayor aglomeración\n",
        "top_20_data = data_sample[data_sample['cluster'].isin(top_20_clusters.index)]\n",
        "\n",
        "# Calcular el centro de cada clúster\n",
        "centroids = []\n",
        "for cluster_num in top_20_clusters.index:\n",
        "    cluster_points = coordinates[data_sample['cluster'] == cluster_num]\n",
        "    cluster_center = MultiPoint(cluster_points).centroid\n",
        "    centroids.append(cluster_center)\n",
        "\n",
        "print(\"Centroides de los clústeres:\", centroids)\n",
        "\n",
        "# Crear un mapa centrado en la Ciudad de México\n",
        "mapa = folium.Map(location=[19.4326, -99.1332], zoom_start=12)\n",
        "\n",
        "# Agregar los puntos de accidentes de los 20 clústeres más grandes al mapa\n",
        "for i, row in top_20_data.iterrows():\n",
        "    folium.CircleMarker(\n",
        "        location=(row['latitud'], row['longitud']),\n",
        "        radius=5, color='blue', fill=True, fill_color='blue'\n",
        "    ).add_to(mapa)\n",
        "\n",
        "# Agregar los centroides de los 20 clústeres más grandes al mapa (puntos rojos)\n",
        "for centroide in centroids:\n",
        "    latitud, longitud = centroide.x, centroide.y  # Extraer las coordenadas del centroide\n",
        "    folium.CircleMarker(\n",
        "        location=(latitud, longitud),  # latitud, longitud del centroide\n",
        "        radius=7, color='red', fill=True, fill_color='red'\n",
        "    ).add_to(mapa)\n",
        "\n",
        "# Guardar o mostrar el mapa\n",
        "mapa.save(\"mapa_accidentes_top20_clusters.html\")\n"
      ],
      "metadata": {
        "colab": {
          "base_uri": "https://localhost:8080/"
        },
        "id": "if0ufXDkAEh0",
        "outputId": "18b71875-f6e7-43d1-85bd-bbb226f9fa23"
      },
      "execution_count": null,
      "outputs": [
        {
          "output_type": "stream",
          "name": "stdout",
          "text": [
            "Centroides de los clústeres: [<POINT (19.45 -99.125)>, <POINT (19.421 -99.177)>, <POINT (19.325 -99.174)>, <POINT (19.443 -99.195)>, <POINT (19.361 -99.205)>, <POINT (19.254 -99.12)>, <POINT (19.388 -99.036)>, <POINT (19.323 -99.225)>, <POINT (19.325 -99.139)>, <POINT (19.355 -99.009)>, <POINT (19.356 -98.992)>, <POINT (19.374 -99.019)>, <POINT (19.238 -99.165)>, <POINT (19.189 -99.021)>, <POINT (19.434 -99.147)>, <POINT (19.415 -99.123)>, <POINT (19.478 -99.117)>, <POINT (19.415 -99.095)>, <POINT (19.36 -99.157)>, <POINT (19.382 -99.186)>]\n"
          ]
        }
      ]
    }
  ]
}